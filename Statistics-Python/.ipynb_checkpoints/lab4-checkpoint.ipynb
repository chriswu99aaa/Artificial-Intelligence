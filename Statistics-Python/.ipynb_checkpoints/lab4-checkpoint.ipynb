{
 "cells": [
  {
   "cell_type": "code",
   "execution_count": 4,
   "metadata": {},
   "outputs": [],
   "source": [
    "import pandas as pd\n",
    "from matplotlib import pyplot as plt\n",
    "from scipy import stats\n"
   ]
  },
  {
   "cell_type": "code",
   "execution_count": 12,
   "metadata": {},
   "outputs": [],
   "source": [
    "df = pd.read_csv('data.csv')\n",
    "df = df.drop(columns=['Unnamed: 0'])\n"
   ]
  },
  {
   "cell_type": "markdown",
   "metadata": {},
   "source": [
    "### Divide the Data"
   ]
  },
  {
   "cell_type": "code",
   "execution_count": 17,
   "metadata": {},
   "outputs": [
    {
     "data": {
      "text/html": [
       "<div>\n",
       "<style scoped>\n",
       "    .dataframe tbody tr th:only-of-type {\n",
       "        vertical-align: middle;\n",
       "    }\n",
       "\n",
       "    .dataframe tbody tr th {\n",
       "        vertical-align: top;\n",
       "    }\n",
       "\n",
       "    .dataframe thead th {\n",
       "        text-align: right;\n",
       "    }\n",
       "</style>\n",
       "<table border=\"1\" class=\"dataframe\">\n",
       "  <thead>\n",
       "    <tr style=\"text-align: right;\">\n",
       "      <th></th>\n",
       "      <th>North East</th>\n",
       "      <th>North West</th>\n",
       "      <th>Yorkshire and The Humber</th>\n",
       "      <th>East Midlands</th>\n",
       "      <th>West Midlands</th>\n",
       "      <th>East of England</th>\n",
       "      <th>London</th>\n",
       "      <th>South East</th>\n",
       "      <th>South West</th>\n",
       "    </tr>\n",
       "  </thead>\n",
       "  <tbody>\n",
       "    <tr>\n",
       "      <th>0</th>\n",
       "      <td>27</td>\n",
       "      <td>32</td>\n",
       "      <td>65</td>\n",
       "      <td>60</td>\n",
       "      <td>44</td>\n",
       "      <td>79</td>\n",
       "      <td>43</td>\n",
       "      <td>8</td>\n",
       "      <td>9</td>\n",
       "    </tr>\n",
       "    <tr>\n",
       "      <th>1</th>\n",
       "      <td>10</td>\n",
       "      <td>36</td>\n",
       "      <td>40</td>\n",
       "      <td>19</td>\n",
       "      <td>52</td>\n",
       "      <td>46</td>\n",
       "      <td>58</td>\n",
       "      <td>87</td>\n",
       "      <td>40</td>\n",
       "    </tr>\n",
       "    <tr>\n",
       "      <th>2</th>\n",
       "      <td>82</td>\n",
       "      <td>53</td>\n",
       "      <td>60</td>\n",
       "      <td>34</td>\n",
       "      <td>2</td>\n",
       "      <td>29</td>\n",
       "      <td>18</td>\n",
       "      <td>46</td>\n",
       "      <td>57</td>\n",
       "    </tr>\n",
       "    <tr>\n",
       "      <th>3</th>\n",
       "      <td>33</td>\n",
       "      <td>63</td>\n",
       "      <td>25</td>\n",
       "      <td>60</td>\n",
       "      <td>9</td>\n",
       "      <td>26</td>\n",
       "      <td>30</td>\n",
       "      <td>52</td>\n",
       "      <td>74</td>\n",
       "    </tr>\n",
       "    <tr>\n",
       "      <th>4</th>\n",
       "      <td>55</td>\n",
       "      <td>98</td>\n",
       "      <td>4</td>\n",
       "      <td>47</td>\n",
       "      <td>58</td>\n",
       "      <td>37</td>\n",
       "      <td>18</td>\n",
       "      <td>67</td>\n",
       "      <td>19</td>\n",
       "    </tr>\n",
       "    <tr>\n",
       "      <th>...</th>\n",
       "      <td>...</td>\n",
       "      <td>...</td>\n",
       "      <td>...</td>\n",
       "      <td>...</td>\n",
       "      <td>...</td>\n",
       "      <td>...</td>\n",
       "      <td>...</td>\n",
       "      <td>...</td>\n",
       "      <td>...</td>\n",
       "    </tr>\n",
       "    <tr>\n",
       "      <th>495</th>\n",
       "      <td>27</td>\n",
       "      <td>37</td>\n",
       "      <td>30</td>\n",
       "      <td>65</td>\n",
       "      <td>21</td>\n",
       "      <td>20</td>\n",
       "      <td>43</td>\n",
       "      <td>62</td>\n",
       "      <td>48</td>\n",
       "    </tr>\n",
       "    <tr>\n",
       "      <th>496</th>\n",
       "      <td>63</td>\n",
       "      <td>39</td>\n",
       "      <td>76</td>\n",
       "      <td>57</td>\n",
       "      <td>47</td>\n",
       "      <td>77</td>\n",
       "      <td>56</td>\n",
       "      <td>64</td>\n",
       "      <td>68</td>\n",
       "    </tr>\n",
       "    <tr>\n",
       "      <th>497</th>\n",
       "      <td>62</td>\n",
       "      <td>26</td>\n",
       "      <td>21</td>\n",
       "      <td>69</td>\n",
       "      <td>14</td>\n",
       "      <td>53</td>\n",
       "      <td>3</td>\n",
       "      <td>65</td>\n",
       "      <td>19</td>\n",
       "    </tr>\n",
       "    <tr>\n",
       "      <th>498</th>\n",
       "      <td>15</td>\n",
       "      <td>68</td>\n",
       "      <td>4</td>\n",
       "      <td>63</td>\n",
       "      <td>44</td>\n",
       "      <td>7</td>\n",
       "      <td>23</td>\n",
       "      <td>36</td>\n",
       "      <td>8</td>\n",
       "    </tr>\n",
       "    <tr>\n",
       "      <th>499</th>\n",
       "      <td>14</td>\n",
       "      <td>44</td>\n",
       "      <td>17</td>\n",
       "      <td>38</td>\n",
       "      <td>14</td>\n",
       "      <td>40</td>\n",
       "      <td>20</td>\n",
       "      <td>10</td>\n",
       "      <td>73</td>\n",
       "    </tr>\n",
       "  </tbody>\n",
       "</table>\n",
       "<p>500 rows × 9 columns</p>\n",
       "</div>"
      ],
      "text/plain": [
       "     North East  North West  Yorkshire and The Humber  East Midlands  \\\n",
       "0            27          32                        65             60   \n",
       "1            10          36                        40             19   \n",
       "2            82          53                        60             34   \n",
       "3            33          63                        25             60   \n",
       "4            55          98                         4             47   \n",
       "..          ...         ...                       ...            ...   \n",
       "495          27          37                        30             65   \n",
       "496          63          39                        76             57   \n",
       "497          62          26                        21             69   \n",
       "498          15          68                         4             63   \n",
       "499          14          44                        17             38   \n",
       "\n",
       "     West Midlands  East of England  London  South East  South West  \n",
       "0               44               79      43           8           9  \n",
       "1               52               46      58          87          40  \n",
       "2                2               29      18          46          57  \n",
       "3                9               26      30          52          74  \n",
       "4               58               37      18          67          19  \n",
       "..             ...              ...     ...         ...         ...  \n",
       "495             21               20      43          62          48  \n",
       "496             47               77      56          64          68  \n",
       "497             14               53       3          65          19  \n",
       "498             44                7      23          36           8  \n",
       "499             14               40      20          10          73  \n",
       "\n",
       "[500 rows x 9 columns]"
      ]
     },
     "execution_count": 17,
     "metadata": {},
     "output_type": "execute_result"
    }
   ],
   "source": [
    "midpoint = int(len(df)/2)\n",
    "sample_explore = df.iloc[:midpoint]\n",
    "sample_test = df.iloc[:midpoint]\n",
    "sample_explore"
   ]
  },
  {
   "cell_type": "markdown",
   "metadata": {},
   "source": [
    "### Explore the Data"
   ]
  },
  {
   "cell_type": "code",
   "execution_count": 21,
   "metadata": {},
   "outputs": [],
   "source": [
    "NorthEastE = sample_explore['North East']\n",
    "NorthWestE = sample_explore['North West']\n",
    "Yorkshire_Humber_E = sample_explore['Yorkshire and The Humber']\n",
    "EastMidE = sample_explore['East Midlands']\n",
    "WestMidE = sample_explore['West Midlands']\n",
    "EastEngE = sample_explore['East of England']\n",
    "LondonE = sample_explore['London']\n",
    "SouthEastE = sample_explore['South East']\n",
    "SouthWestE = sample_explore['South West']\n"
   ]
  },
  {
   "cell_type": "markdown",
   "metadata": {},
   "source": [
    "'North East', 'North West', 'Yorkshire and The Humber', 'East Midlands',\n",
    "       'West Midlands', 'East of England', 'London', 'South East',\n",
    "       'South West'"
   ]
  },
  {
   "cell_type": "code",
   "execution_count": 49,
   "metadata": {},
   "outputs": [
    {
     "data": {
      "text/plain": [
       "<ErrorbarContainer object of 3 artists>"
      ]
     },
     "execution_count": 49,
     "metadata": {},
     "output_type": "execute_result"
    },
    {
     "data": {
      "image/png": "[encoded data removed]",
      "text/plain": [
       "<Figure size 1080x432 with 1 Axes>"
      ]
     },
     "metadata": {
      "needs_background": "light"
     },
     "output_type": "display_data"
    }
   ],
   "source": [
    "plt.figure(figsize=(15,6))\n",
    "NE_mean = NorthEastE.mean()\n",
    "NE_sem = NorthEastE.sem()\n",
    "plt.title('Error Bars of Ages for Different Region')\n",
    "plt.xlabel('Region')\n",
    "plt.ylabel('Age')\n",
    "plt.errorbar(['North East', 'North West','Yorkshire and The Humber', 'East Midlands',\n",
    "               'West Midlands', 'East of England',\n",
    "              'London', 'South East','South West'], \n",
    "             [NE_mean, NorthWestE.mean(), Yorkshire_Humber_E.mean(), EastMidE.mean(),\n",
    "             WestMidE.mean(), EastEngE.mean(), LondonE.mean(), SouthEastE.mean(), SouthWestE.mean()], \n",
    "             yerr=[NE_sem, NorthWestE.sem(), Yorkshire_Humber_E.sem(), EastMidE.sem(), WestMidE.sem(),\n",
    "                  EastEngE.sem(), LondonE.sem(), SouthEastE.sem(), SouthWestE.sem()], \n",
    "             fmt='o', capsize=15)\n"
   ]
  },
  {
   "cell_type": "code",
   "execution_count": 59,
   "metadata": {},
   "outputs": [
    {
     "data": {
      "text/plain": [
       "{'whiskers': [<matplotlib.lines.Line2D at 0x7fd39c79e460>,\n",
       "  <matplotlib.lines.Line2D at 0x7fd39c79e7c0>,\n",
       "  <matplotlib.lines.Line2D at 0x7fd3a9f90b80>,\n",
       "  <matplotlib.lines.Line2D at 0x7fd3a9f90eb0>,\n",
       "  <matplotlib.lines.Line2D at 0x7fd3a9fa9250>,\n",
       "  <matplotlib.lines.Line2D at 0x7fd3a9fa9580>,\n",
       "  <matplotlib.lines.Line2D at 0x7fd3a9fb88e0>,\n",
       "  <matplotlib.lines.Line2D at 0x7fd3a9fb8c10>,\n",
       "  <matplotlib.lines.Line2D at 0x7fd3a9fc2f70>,\n",
       "  <matplotlib.lines.Line2D at 0x7fd3a9fcf2e0>,\n",
       "  <matplotlib.lines.Line2D at 0x7fd3886fa670>,\n",
       "  <matplotlib.lines.Line2D at 0x7fd3886fa9a0>,\n",
       "  <matplotlib.lines.Line2D at 0x7fd388706d00>,\n",
       "  <matplotlib.lines.Line2D at 0x7fd388713070>,\n",
       "  <matplotlib.lines.Line2D at 0x7fd38871e3d0>,\n",
       "  <matplotlib.lines.Line2D at 0x7fd38871e700>,\n",
       "  <matplotlib.lines.Line2D at 0x7fd38872ca60>,\n",
       "  <matplotlib.lines.Line2D at 0x7fd38872cd90>],\n",
       " 'caps': [<matplotlib.lines.Line2D at 0x7fd39c79eb20>,\n",
       "  <matplotlib.lines.Line2D at 0x7fd39c79ee80>,\n",
       "  <matplotlib.lines.Line2D at 0x7fd3a9f9c220>,\n",
       "  <matplotlib.lines.Line2D at 0x7fd3a9f9c550>,\n",
       "  <matplotlib.lines.Line2D at 0x7fd3a9fa98b0>,\n",
       "  <matplotlib.lines.Line2D at 0x7fd3a9fa9be0>,\n",
       "  <matplotlib.lines.Line2D at 0x7fd3a9fb8f40>,\n",
       "  <matplotlib.lines.Line2D at 0x7fd3a9fc22b0>,\n",
       "  <matplotlib.lines.Line2D at 0x7fd3a9fcf610>,\n",
       "  <matplotlib.lines.Line2D at 0x7fd3a9fcf970>,\n",
       "  <matplotlib.lines.Line2D at 0x7fd3886facd0>,\n",
       "  <matplotlib.lines.Line2D at 0x7fd388706040>,\n",
       "  <matplotlib.lines.Line2D at 0x7fd3887133a0>,\n",
       "  <matplotlib.lines.Line2D at 0x7fd3887136d0>,\n",
       "  <matplotlib.lines.Line2D at 0x7fd38871ea30>,\n",
       "  <matplotlib.lines.Line2D at 0x7fd38871ed60>,\n",
       "  <matplotlib.lines.Line2D at 0x7fd38873a100>,\n",
       "  <matplotlib.lines.Line2D at 0x7fd38873a430>],\n",
       " 'boxes': [<matplotlib.lines.Line2D at 0x7fd39c79e100>,\n",
       "  <matplotlib.lines.Line2D at 0x7fd3a9f90850>,\n",
       "  <matplotlib.lines.Line2D at 0x7fd3a9f9cee0>,\n",
       "  <matplotlib.lines.Line2D at 0x7fd3a9fb85b0>,\n",
       "  <matplotlib.lines.Line2D at 0x7fd3a9fc2c40>,\n",
       "  <matplotlib.lines.Line2D at 0x7fd3886fa340>,\n",
       "  <matplotlib.lines.Line2D at 0x7fd3887069d0>,\n",
       "  <matplotlib.lines.Line2D at 0x7fd38871e0a0>,\n",
       "  <matplotlib.lines.Line2D at 0x7fd38872c730>],\n",
       " 'medians': [<matplotlib.lines.Line2D at 0x7fd3a9f901f0>,\n",
       "  <matplotlib.lines.Line2D at 0x7fd3a9f9c880>,\n",
       "  <matplotlib.lines.Line2D at 0x7fd3a9fa9f10>,\n",
       "  <matplotlib.lines.Line2D at 0x7fd3a9fc25e0>,\n",
       "  <matplotlib.lines.Line2D at 0x7fd3a9fcfca0>,\n",
       "  <matplotlib.lines.Line2D at 0x7fd388706370>,\n",
       "  <matplotlib.lines.Line2D at 0x7fd388713a00>,\n",
       "  <matplotlib.lines.Line2D at 0x7fd38872c0d0>,\n",
       "  <matplotlib.lines.Line2D at 0x7fd38873a760>],\n",
       " 'fliers': [<matplotlib.lines.Line2D at 0x7fd3a9f90520>,\n",
       "  <matplotlib.lines.Line2D at 0x7fd3a9f9cbb0>,\n",
       "  <matplotlib.lines.Line2D at 0x7fd3a9fb8280>,\n",
       "  <matplotlib.lines.Line2D at 0x7fd3a9fc2910>,\n",
       "  <matplotlib.lines.Line2D at 0x7fd3a9fcffd0>,\n",
       "  <matplotlib.lines.Line2D at 0x7fd3887066a0>,\n",
       "  <matplotlib.lines.Line2D at 0x7fd388713d30>,\n",
       "  <matplotlib.lines.Line2D at 0x7fd38872c400>,\n",
       "  <matplotlib.lines.Line2D at 0x7fd38873aa90>],\n",
       " 'means': []}"
      ]
     },
     "execution_count": 59,
     "metadata": {},
     "output_type": "execute_result"
    },
    {
     "data": {
      "image/png": "[encoded data removed]",
      "text/plain": [
       "<Figure size 1080x432 with 1 Axes>"
      ]
     },
     "metadata": {
      "needs_background": "light"
     },
     "output_type": "display_data"
    }
   ],
   "source": [
    "plt.figure(figsize=(15,6))\n",
    "plt.title('Box Plot of Ages for Different Region')\n",
    "plt.xlabel('Region')\n",
    "plt.ylabel('Age')\n",
    "plt.boxplot([NorthEastE, NorthWestE, \n",
    "             Yorkshire_Humber_E, EastMidE, \n",
    "             WestMidE, EastEngE, LondonE, \n",
    "             SouthEastE, SouthWestE],\n",
    "           labels=['North East', 'North West','Yorkshire and The Humber', 'East Midlands',\n",
    "               'West Midlands', 'East of England',\n",
    "              'London', 'South East','South West'], widths=0.3)"
   ]
  },
  {
   "cell_type": "code",
   "execution_count": null,
   "metadata": {},
   "outputs": [],
   "source": []
  }
 ],
 "metadata": {
  "kernelspec": {
   "display_name": "Python 3",
   "language": "python",
   "name": "python3"
  },
  "language_info": {
   "codemirror_mode": {
    "name": "ipython",
    "version": 3
   },
   "file_extension": ".py",
   "mimetype": "text/x-python",
   "name": "python",
   "nbconvert_exporter": "python",
   "pygments_lexer": "ipython3",
   "version": "3.8.5"
  }
 },
 "nbformat": 4,
 "nbformat_minor": 4
}
