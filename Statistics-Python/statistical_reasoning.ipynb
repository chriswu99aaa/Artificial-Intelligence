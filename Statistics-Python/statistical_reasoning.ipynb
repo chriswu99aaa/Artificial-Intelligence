{
 "cells": [
  {
   "cell_type": "code",
   "execution_count": 1,
   "metadata": {},
   "outputs": [],
   "source": [
    "import pandas as pd\n",
    "from matplotlib import pyplot as plt\n",
    "from scipy import stats\n",
    "import numpy as np\n"
   ]
  },
  {
   "cell_type": "code",
   "execution_count": 2,
   "metadata": {},
   "outputs": [],
   "source": [
    "df = pd.read_csv(\"data.csv\")"
   ]
  },
  {
   "cell_type": "code",
   "execution_count": 3,
   "metadata": {},
   "outputs": [],
   "source": [
    "df = df.drop(columns=\"Unnamed: 0\")"
   ]
  },
  {
   "cell_type": "markdown",
   "metadata": {},
   "source": [
    "## Hypothesis\n",
    "Is the mean of age in SouthEast the same as the mean of age in London"
   ]
  },
  {
   "cell_type": "markdown",
   "metadata": {},
   "source": [
    "### Divide the data"
   ]
  },
  {
   "cell_type": "code",
   "execution_count": 4,
   "metadata": {},
   "outputs": [
    {
     "data": {
      "text/html": [
       "<div>\n",
       "<style scoped>\n",
       "    .dataframe tbody tr th:only-of-type {\n",
       "        vertical-align: middle;\n",
       "    }\n",
       "\n",
       "    .dataframe tbody tr th {\n",
       "        vertical-align: top;\n",
       "    }\n",
       "\n",
       "    .dataframe thead th {\n",
       "        text-align: right;\n",
       "    }\n",
       "</style>\n",
       "<table border=\"1\" class=\"dataframe\">\n",
       "  <thead>\n",
       "    <tr style=\"text-align: right;\">\n",
       "      <th></th>\n",
       "      <th>North East</th>\n",
       "      <th>North West</th>\n",
       "      <th>Yorkshire and The Humber</th>\n",
       "      <th>East Midlands</th>\n",
       "      <th>West Midlands</th>\n",
       "      <th>East of England</th>\n",
       "      <th>London</th>\n",
       "      <th>South East</th>\n",
       "      <th>South West</th>\n",
       "    </tr>\n",
       "  </thead>\n",
       "  <tbody>\n",
       "    <tr>\n",
       "      <th>0</th>\n",
       "      <td>27</td>\n",
       "      <td>32</td>\n",
       "      <td>65</td>\n",
       "      <td>60</td>\n",
       "      <td>44</td>\n",
       "      <td>79</td>\n",
       "      <td>43</td>\n",
       "      <td>8</td>\n",
       "      <td>9</td>\n",
       "    </tr>\n",
       "    <tr>\n",
       "      <th>1</th>\n",
       "      <td>10</td>\n",
       "      <td>36</td>\n",
       "      <td>40</td>\n",
       "      <td>19</td>\n",
       "      <td>52</td>\n",
       "      <td>46</td>\n",
       "      <td>58</td>\n",
       "      <td>87</td>\n",
       "      <td>40</td>\n",
       "    </tr>\n",
       "    <tr>\n",
       "      <th>2</th>\n",
       "      <td>82</td>\n",
       "      <td>53</td>\n",
       "      <td>60</td>\n",
       "      <td>34</td>\n",
       "      <td>2</td>\n",
       "      <td>29</td>\n",
       "      <td>18</td>\n",
       "      <td>46</td>\n",
       "      <td>57</td>\n",
       "    </tr>\n",
       "    <tr>\n",
       "      <th>3</th>\n",
       "      <td>33</td>\n",
       "      <td>63</td>\n",
       "      <td>25</td>\n",
       "      <td>60</td>\n",
       "      <td>9</td>\n",
       "      <td>26</td>\n",
       "      <td>30</td>\n",
       "      <td>52</td>\n",
       "      <td>74</td>\n",
       "    </tr>\n",
       "    <tr>\n",
       "      <th>4</th>\n",
       "      <td>55</td>\n",
       "      <td>98</td>\n",
       "      <td>4</td>\n",
       "      <td>47</td>\n",
       "      <td>58</td>\n",
       "      <td>37</td>\n",
       "      <td>18</td>\n",
       "      <td>67</td>\n",
       "      <td>19</td>\n",
       "    </tr>\n",
       "    <tr>\n",
       "      <th>...</th>\n",
       "      <td>...</td>\n",
       "      <td>...</td>\n",
       "      <td>...</td>\n",
       "      <td>...</td>\n",
       "      <td>...</td>\n",
       "      <td>...</td>\n",
       "      <td>...</td>\n",
       "      <td>...</td>\n",
       "      <td>...</td>\n",
       "    </tr>\n",
       "    <tr>\n",
       "      <th>495</th>\n",
       "      <td>27</td>\n",
       "      <td>37</td>\n",
       "      <td>30</td>\n",
       "      <td>65</td>\n",
       "      <td>21</td>\n",
       "      <td>20</td>\n",
       "      <td>43</td>\n",
       "      <td>62</td>\n",
       "      <td>48</td>\n",
       "    </tr>\n",
       "    <tr>\n",
       "      <th>496</th>\n",
       "      <td>63</td>\n",
       "      <td>39</td>\n",
       "      <td>76</td>\n",
       "      <td>57</td>\n",
       "      <td>47</td>\n",
       "      <td>77</td>\n",
       "      <td>56</td>\n",
       "      <td>64</td>\n",
       "      <td>68</td>\n",
       "    </tr>\n",
       "    <tr>\n",
       "      <th>497</th>\n",
       "      <td>62</td>\n",
       "      <td>26</td>\n",
       "      <td>21</td>\n",
       "      <td>69</td>\n",
       "      <td>14</td>\n",
       "      <td>53</td>\n",
       "      <td>3</td>\n",
       "      <td>65</td>\n",
       "      <td>19</td>\n",
       "    </tr>\n",
       "    <tr>\n",
       "      <th>498</th>\n",
       "      <td>15</td>\n",
       "      <td>68</td>\n",
       "      <td>4</td>\n",
       "      <td>63</td>\n",
       "      <td>44</td>\n",
       "      <td>7</td>\n",
       "      <td>23</td>\n",
       "      <td>36</td>\n",
       "      <td>8</td>\n",
       "    </tr>\n",
       "    <tr>\n",
       "      <th>499</th>\n",
       "      <td>14</td>\n",
       "      <td>44</td>\n",
       "      <td>17</td>\n",
       "      <td>38</td>\n",
       "      <td>14</td>\n",
       "      <td>40</td>\n",
       "      <td>20</td>\n",
       "      <td>10</td>\n",
       "      <td>73</td>\n",
       "    </tr>\n",
       "  </tbody>\n",
       "</table>\n",
       "<p>500 rows × 9 columns</p>\n",
       "</div>"
      ],
      "text/plain": [
       "     North East  North West  Yorkshire and The Humber  East Midlands  \\\n",
       "0            27          32                        65             60   \n",
       "1            10          36                        40             19   \n",
       "2            82          53                        60             34   \n",
       "3            33          63                        25             60   \n",
       "4            55          98                         4             47   \n",
       "..          ...         ...                       ...            ...   \n",
       "495          27          37                        30             65   \n",
       "496          63          39                        76             57   \n",
       "497          62          26                        21             69   \n",
       "498          15          68                         4             63   \n",
       "499          14          44                        17             38   \n",
       "\n",
       "     West Midlands  East of England  London  South East  South West  \n",
       "0               44               79      43           8           9  \n",
       "1               52               46      58          87          40  \n",
       "2                2               29      18          46          57  \n",
       "3                9               26      30          52          74  \n",
       "4               58               37      18          67          19  \n",
       "..             ...              ...     ...         ...         ...  \n",
       "495             21               20      43          62          48  \n",
       "496             47               77      56          64          68  \n",
       "497             14               53       3          65          19  \n",
       "498             44                7      23          36           8  \n",
       "499             14               40      20          10          73  \n",
       "\n",
       "[500 rows x 9 columns]"
      ]
     },
     "execution_count": 4,
     "metadata": {},
     "output_type": "execute_result"
    }
   ],
   "source": [
    "\n",
    "midpoint = int(len(df)/2)\n",
    "sample_explore = df.iloc[:midpoint]\n",
    "sample_test = df.iloc[midpoint:]\n",
    "sample_explore"
   ]
  },
  {
   "cell_type": "code",
   "execution_count": 5,
   "metadata": {},
   "outputs": [],
   "source": [
    "NorthEastE = sample_explore['North East']\n",
    "NorthWestE = sample_explore[\"North West\"]\n",
    "Yokshire_HamberE = df['Yorkshire and The Humber']\n",
    "EastMidlandsE = sample_explore['East Midlands']\n",
    "WestMidlandsE = sample_explore['West Midlands']\n",
    "EastEnglandE = sample_explore['East of England']\n",
    "LondonE = sample_explore['London']\n",
    "SouthEastE = sample_explore['South East']\n",
    "SouthWestE = sample_explore['South West']\n"
   ]
  },
  {
   "cell_type": "code",
   "execution_count": 6,
   "metadata": {},
   "outputs": [
    {
     "name": "stderr",
     "output_type": "stream",
     "text": [
      "<ipython-input-6-cd27f9624d63>:2: UserWarning: FixedFormatter should only be used together with FixedLocator\n",
      "  ax.set_yticklabels(['North East', 'North West', 'Yokshire and The Humber', 'East Midlands',\n"
     ]
    },
    {
     "data": {
      "text/plain": [
       "[]"
      ]
     },
     "execution_count": 6,
     "metadata": {},
     "output_type": "execute_result"
    },
    {
     "data": {
      "image/png": "[encoded data removed]",
      "text/plain": [
       "<Figure size 1080x576 with 1 Axes>"
      ]
     },
     "metadata": {
      "needs_background": "light"
     },
     "output_type": "display_data"
    }
   ],
   "source": [
    "fig, ax = plt.subplots(figsize=(15,8))\n",
    "ax.set_yticklabels(['North East', 'North West', 'Yokshire and The Humber', 'East Midlands',\n",
    "                   'West Midlands', 'East of Egnland', 'London', 'South East', 'South West'])\n",
    "ax.set_title('Ages in Different Region')\n",
    "plt.boxplot([NorthEastE, NorthWestE, Yokshire_HamberE, EastMidlandsE, WestMidlandsE,\n",
    "            EastEnglandE, LondonE, SouthEastE, SouthWestE], vert=False)\n",
    "ax.grid(True)\n",
    "plt.plot()\n"
   ]
  },
  {
   "cell_type": "markdown",
   "metadata": {},
   "source": [
    "### Calculating the mean, mode, and median of the dataset\n",
    "Note the 0 or 1, 2, 3 on the left for the mode are the indexes of the mode, since the mode is reutrned as a list"
   ]
  },
  {
   "cell_type": "code",
   "execution_count": 7,
   "metadata": {},
   "outputs": [
    {
     "name": "stdout",
     "output_type": "stream",
     "text": [
      "The mean of North East is 41\n",
      "The median ofNorth East is 42.0\n",
      "The mode of North East is 0    45\n",
      "dtype: int64\n",
      "\n",
      "The mean of North West is 39\n",
      "The median ofNorth West is 40.0\n",
      "The mode of North West is 0     0\n",
      "1    18\n",
      "2    46\n",
      "3    47\n",
      "dtype: int64\n",
      "\n",
      "The mean of Yorkshire and The Humber is 38\n",
      "The median ofYorkshire and The Humber is 37.0\n",
      "The mode of Yorkshire and The Humber is 0    30\n",
      "1    47\n",
      "dtype: int64\n",
      "\n",
      "The mean of East Midlands is 38\n",
      "The median ofEast Midlands is 37.0\n",
      "The mode of East Midlands is 0    17\n",
      "1    20\n",
      "dtype: int64\n",
      "\n",
      "The mean of West Midlands is 40\n",
      "The median ofWest Midlands is 42.0\n",
      "The mode of West Midlands is 0    18\n",
      "dtype: int64\n",
      "\n",
      "The mean of East of England is 42\n",
      "The median ofEast of England is 41.0\n",
      "The mode of East of England is 0    52\n",
      "dtype: int64\n",
      "\n",
      "The mean of London is 35\n",
      "The median ofLondon is 33.5\n",
      "The mode of London is 0    25\n",
      "1    30\n",
      "2    34\n",
      "3    38\n",
      "dtype: int64\n",
      "\n",
      "The mean of South East is 41\n",
      "The median ofSouth East is 42.0\n",
      "The mode of South East is 0    64\n",
      "dtype: int64\n",
      "\n",
      "The mean of South West is 43\n",
      "The median ofSouth West is 44.0\n",
      "The mode of South West is 0    47\n",
      "dtype: int64\n",
      "\n"
     ]
    }
   ],
   "source": [
    "for n in sample_explore.columns:\n",
    "    print(\"The mean of \" + n + \" is \" + str(int(sample_explore[n].mean())))\n",
    "    print(\"The median of\" + n + \" is \" + str(sample_explore[n].median()))\n",
    "    print(\"The mode of \" + n + \" is \" + str(sample_explore[n].mode()) + \"\\n\")\n"
   ]
  },
  {
   "cell_type": "code",
   "execution_count": 8,
   "metadata": {
    "scrolled": true
   },
   "outputs": [
    {
     "data": {
      "text/plain": [
       "[]"
      ]
     },
     "execution_count": 8,
     "metadata": {},
     "output_type": "execute_result"
    },
    {
     "data": {
      "image/png": "[encoded data removed]",
      "text/plain": [
       "<Figure size 1080x576 with 1 Axes>"
      ]
     },
     "metadata": {
      "needs_background": "light"
     },
     "output_type": "display_data"
    }
   ],
   "source": [
    "fig, ax = plt.subplots(figsize=(15,8))\n",
    "ax.scatter(NorthEastE.index, NorthEastE, marker='.',s=10, c='r')\n",
    "\n",
    "ax.grid(True)\n",
    "plt.plot()"
   ]
  },
  {
   "cell_type": "code",
   "execution_count": 9,
   "metadata": {},
   "outputs": [
    {
     "data": {
      "text/plain": [
       "[]"
      ]
     },
     "execution_count": 9,
     "metadata": {},
     "output_type": "execute_result"
    },
    {
     "data": {
      "image/png": "[encoded data removed]",
      "text/plain": [
       "<Figure size 1080x576 with 1 Axes>"
      ]
     },
     "metadata": {
      "needs_background": "light"
     },
     "output_type": "display_data"
    }
   ],
   "source": [
    "fig, ax = plt.subplots(figsize=(15,8))\n",
    "ax.scatter(NorthWestE.index, NorthWestE, marker='^',s=10, c='b')\n",
    "\n",
    "ax.grid(True)\n",
    "plt.plot()"
   ]
  },
  {
   "cell_type": "code",
   "execution_count": 10,
   "metadata": {},
   "outputs": [
    {
     "data": {
      "text/plain": [
       "<BarContainer object of 92 artists>"
      ]
     },
     "execution_count": 10,
     "metadata": {},
     "output_type": "execute_result"
    },
    {
     "data": {
      "image/png": "[encoded data removed]",
      "text/plain": [
       "<Figure size 1080x576 with 1 Axes>"
      ]
     },
     "metadata": {
      "needs_background": "light"
     },
     "output_type": "display_data"
    }
   ],
   "source": [
    "plt.figure(figsize=(15,8))\n",
    "frequency = NorthWestE.to_list()\n",
    "\n",
    "frequency_value = {}\n",
    "for n in frequency:\n",
    "    if n in frequency_value:\n",
    "        frequency_value[n] += 1\n",
    "    else:\n",
    "        frequency_value[n] = 1\n",
    "\n",
    "keys = frequency_value.keys()\n",
    "values = frequency_value.values()\n",
    "plt.title(\"Ages Distribution in North West Region\")\n",
    "plt.xlabel(\"Ages\")\n",
    "plt.ylabel(\"Frequency\")\n",
    "\n",
    "plt.bar(keys, values)\n"
   ]
  },
  {
   "cell_type": "code",
   "execution_count": 11,
   "metadata": {},
   "outputs": [
    {
     "data": {
      "text/plain": [
       "<BarContainer object of 88 artists>"
      ]
     },
     "execution_count": 11,
     "metadata": {},
     "output_type": "execute_result"
    },
    {
     "data": {
      "image/png": "[encoded data removed]",
      "text/plain": [
       "<Figure size 1080x576 with 1 Axes>"
      ]
     },
     "metadata": {
      "needs_background": "light"
     },
     "output_type": "display_data"
    }
   ],
   "source": [
    "plt.figure(figsize=(15,8))\n",
    "frequency = SouthEastE.to_list()\n",
    "\n",
    "frequency_value = {}\n",
    "for n in frequency:\n",
    "    if n in frequency_value:\n",
    "        frequency_value[n] += 1\n",
    "    else:\n",
    "        frequency_value[n] = 1\n",
    "\n",
    "keys = frequency_value.keys()\n",
    "values = frequency_value.values()\n",
    "plt.title(\"Ages Distribution in South East Region\")\n",
    "plt.xlabel(\"Ages\")\n",
    "plt.ylabel(\"Frequency\")\n",
    "\n",
    "plt.bar(keys, values)\n",
    "\n",
    "\n"
   ]
  },
  {
   "cell_type": "code",
   "execution_count": 12,
   "metadata": {
    "scrolled": true
   },
   "outputs": [
    {
     "name": "stdout",
     "output_type": "stream",
     "text": [
      "The Standard Deviation of North East is 22.66240873206284\n",
      "The Standard Error of the Mean North East is 1.0134937291755466\n",
      "\n",
      "The Standard Deviation of North West is 23.72709527313026\n",
      "The Standard Error of the Mean North West is 1.0611079587866639\n",
      "\n",
      "The Standard Deviation of Yorkshire and The Humber is 22.468101102101812\n",
      "The Standard Error of the Mean Yorkshire and The Humber is 1.004804027792752\n",
      "\n",
      "The Standard Deviation of East Midlands is 23.718759645441768\n",
      "The Standard Error of the Mean East Midlands is 1.060735178183732\n",
      "\n",
      "The Standard Deviation of West Midlands is 23.638036923127924\n",
      "The Standard Error of the Mean West Midlands is 1.0571251482952801\n",
      "\n",
      "The Standard Deviation of East of England is 24.28251356284723\n",
      "The Standard Error of the Mean East of England is 1.0859470198217405\n",
      "\n",
      "The Standard Deviation of London is 22.37834006820919\n",
      "The Standard Error of the Mean London is 1.0007897923224607\n",
      "\n",
      "The Standard Deviation of South East is 23.15753308704005\n",
      "The Standard Error of the Mean South East is 1.035636363476442\n",
      "\n",
      "The Standard Deviation of South West is 24.03948021938983\n",
      "The Standard Error of the Mean South West is 1.0750782382863444\n",
      "\n"
     ]
    }
   ],
   "source": [
    "for i in sample_explore.columns:\n",
    "    print(\"The Standard Deviation of \" + i + \" is \" + str(sample_explore[i].std()))\n",
    "    print(\"The Standard Error of the Mean \" + i + ' is ' + str(sample_explore[i].sem()) + \"\\n\")"
   ]
  },
  {
   "cell_type": "code",
   "execution_count": 13,
   "metadata": {},
   "outputs": [
    {
     "data": {
      "text/plain": [
       "Index(['North East', 'North West', 'Yorkshire and The Humber', 'East Midlands',\n",
       "       'West Midlands', 'East of England', 'London', 'South East',\n",
       "       'South West'],\n",
       "      dtype='object')"
      ]
     },
     "execution_count": 13,
     "metadata": {},
     "output_type": "execute_result"
    }
   ],
   "source": [
    "sample_explore.columns"
   ]
  },
  {
   "cell_type": "code",
   "execution_count": 14,
   "metadata": {
    "scrolled": true
   },
   "outputs": [
    {
     "data": {
      "text/plain": [
       "Text(0.5, 1.0, 'ErrorBars for Different Region')"
      ]
     },
     "execution_count": 14,
     "metadata": {},
     "output_type": "execute_result"
    },
    {
     "data": {
      "image/png": "[encoded data removed]",
      "text/plain": [
       "<Figure size 1080x576 with 1 Axes>"
      ]
     },
     "metadata": {
      "needs_background": "light"
     },
     "output_type": "display_data"
    }
   ],
   "source": [
    "plt.figure(figsize=(15,8))\n",
    "\n",
    "plt.errorbar([\"South East\", \"London\", 'North East', 'North West', 'Yokshire and The Hamber',\n",
    "             'East Midlands', 'West Midlands', 'East of England', 'South West'], \n",
    "             [SouthEastE.mean(), LondonE.mean(), NorthEastE.mean(),\n",
    "              NorthWestE.mean(), Yokshire_HamberE.mean(), EastMidlandsE.mean(),\n",
    "             WestMidlandsE.mean(), EastMidlandsE.mean(), SouthWestE.mean()], \n",
    "             yerr=[SouthEastE.sem(), LondonE.sem(), NorthEastE.sem(), NorthWestE.sem(),\n",
    "                  Yokshire_HamberE.sem(), EastMidlandsE.sem(), WestMidlandsE.sem(),\n",
    "                  EastEnglandE.sem(), SouthWestE.sem()],\n",
    "             fmt=\"o\")\n",
    "plt.xlabel(\"Region\")\n",
    "plt.ylabel('Ages')\n",
    "plt.title('ErrorBars for Different Region')"
   ]
  },
  {
   "cell_type": "code",
   "execution_count": 15,
   "metadata": {
    "scrolled": true
   },
   "outputs": [
    {
     "data": {
      "text/plain": [
       "<matplotlib.legend.Legend at 0x7ff728f9b130>"
      ]
     },
     "execution_count": 15,
     "metadata": {},
     "output_type": "execute_result"
    },
    {
     "data": {
      "image/png": "[encoded data removed]",
      "text/plain": [
       "<Figure size 1440x576 with 1 Axes>"
      ]
     },
     "metadata": {
      "needs_background": "light"
     },
     "output_type": "display_data"
    }
   ],
   "source": [
    "plt.figure(figsize=(20,8))\n",
    "plt.hist(sample_explore, label=['North East', 'North West', 'Yorkshire and The Humber', \n",
    "                                'East Midlands', 'West Midlands', 'East of England', 'London'\n",
    "                                'South East', 'South West'])\n",
    "plt.legend()"
   ]
  },
  {
   "cell_type": "code",
   "execution_count": 16,
   "metadata": {},
   "outputs": [],
   "source": [
    "# first_quantile = LondonE.quantile(0.25)\n",
    "# third_quantile = LondonE.quantile(0.75)\n",
    "# IQR = third_quantile - first_quantile\n"
   ]
  },
  {
   "cell_type": "code",
   "execution_count": 17,
   "metadata": {},
   "outputs": [
    {
     "data": {
      "text/plain": [
       "Text(0.5, 1.0, 'Histogram for London')"
      ]
     },
     "execution_count": 17,
     "metadata": {},
     "output_type": "execute_result"
    },
    {
     "data": {
      "image/png": "[encoded data removed]",
      "text/plain": [
       "<Figure size 1440x576 with 1 Axes>"
      ]
     },
     "metadata": {
      "needs_background": "light"
     },
     "output_type": "display_data"
    }
   ],
   "source": [
    "plt.figure(figsize=(20,8))\n",
    "plt.hist(sample_explore['London'], bins=100)\n",
    "plt.xlabel('Ages')\n",
    "plt.ylabel('Frequency')\n",
    "plt.title('Histogram for London')\n"
   ]
  },
  {
   "cell_type": "code",
   "execution_count": 18,
   "metadata": {},
   "outputs": [
    {
     "data": {
      "text/plain": [
       "Text(0.5, 1.0, 'Histogram for South East')"
      ]
     },
     "execution_count": 18,
     "metadata": {},
     "output_type": "execute_result"
    },
    {
     "data": {
      "image/png": "[encoded data removed]",
      "text/plain": [
       "<Figure size 1440x576 with 1 Axes>"
      ]
     },
     "metadata": {
      "needs_background": "light"
     },
     "output_type": "display_data"
    }
   ],
   "source": [
    "plt.figure(figsize=(20,8))\n",
    "bins = np.arange(0, SouthEastE.max())\n",
    "plt.grid(True)\n",
    "plt.hist(sample_explore['South East'], bins)\n",
    "plt.xlabel('Ages')\n",
    "plt.ylabel('Frequency')\n",
    "\n",
    "plt.title('Histogram for South East')"
   ]
  },
  {
   "cell_type": "markdown",
   "metadata": {},
   "source": [
    "## Hypothesis\n",
    "### Null Hypothesis (H_0): The mean of age in SouthEast is the same as the mean of age in London\n",
    "### Alternative Hypothesis 1 (H_1): The mean of age in South East is not the same as the mean of age in London\n",
    "### Alternative Hypothesis 2 ((H_2): The mean of age in South East is lower than the mean of age in London\n",
    "### Alternative Hypothesis 3 (H_3): The mean of age in South East is higher than the mean of age in London\n"
   ]
  },
  {
   "cell_type": "markdown",
   "metadata": {},
   "source": [
    "### Plan\n",
    "For Z-Test \n",
    "\n",
    "alpha level = 0.05 which is 5%\n",
    "\n",
    "The probability level that the null hypothesis will be ruled out is 95%\n",
    "\n",
    "the Hypothesises will be considered are H_0 and H_1\n",
    "\n",
    "First a two-tail test will be run.\n",
    "\n",
    "Second the critical values of z will be calculated\n",
    "\n",
    "Third the z test statistics will be calculated\n",
    "\n",
    "Finally the test statistics will be compared to the critical value \n",
    "\n",
    "If z-statistics is smaller than critical value, then we reject the Null Hypothesis otherwise we accept the Null Hypothesis."
   ]
  },
  {
   "cell_type": "code",
   "execution_count": 19,
   "metadata": {},
   "outputs": [],
   "source": [
    "# Get the test data set\n",
    "\n",
    "London_t = sample_test['London']\n",
    "SE_t = sample_test['South East']"
   ]
  },
  {
   "cell_type": "code",
   "execution_count": 20,
   "metadata": {},
   "outputs": [
    {
     "name": "stdout",
     "output_type": "stream",
     "text": [
      "The critical value is:  -6.40880498247143\n",
      "The z statistics is:  -1.4548771714812208\n",
      "Difference between means  -2.073999999999998\n",
      "Confidence interval is:  (38.1145461139836, 39.561453886016395) \n",
      "\n",
      "Z-statistics is bigger than critcal value: Accept the Null Hypothesis\n"
     ]
    }
   ],
   "source": [
    "# Perform a two-tail tests\n",
    "\n",
    "# get the test data sample\n",
    "\n",
    "alpha = 0.05\n",
    "\n",
    "SE_std = SE_t.std()\n",
    "\n",
    "L_mean = London_t.mean()\n",
    "\n",
    "SE_mean = SE_t.mean()\n",
    "\n",
    "L_var = London_t.var()\n",
    "\n",
    "SE_var = SE_t.var()\n",
    "\n",
    "critical_val =  stats.norm.ppf(alpha/2, loc=SE_mean, scale=SE_std )\n",
    "\n",
    "mean_diff = L_mean - SE_mean\n",
    "\n",
    "combined_standard_error = np.sqrt(L_var/500 + SE_var/500)\n",
    "\n",
    "z_statistics = mean_diff / combined_standard_error\n",
    "\n",
    "confidence_inter = stats.norm.interval(alpha/2, loc=SE_mean, scale=SE_std)\n",
    "\n",
    "print('The critical value is: ', critical_val)\n",
    "print('The z statistics is: ', z_statistics)\n",
    "print('Difference between means ',mean_diff)\n",
    "print('Confidence interval is: ', confidence_inter, \"\\n\")\n",
    "\n",
    "\n",
    "\n",
    "\n",
    "if z_statistics < critical_val:\n",
    "    print('Z-statistics is smaller than critcal value: Reject Null Hypothesis')\n",
    "else:\n",
    "    print('Z-statistics is bigger than critcal value: Accept the Null Hypothesis')\n"
   ]
  },
  {
   "cell_type": "markdown",
   "metadata": {},
   "source": [
    "## Conclusion:\n",
    "By using z-statistics, I find out that the Null Hypothesis can not be ruled out at an alpha-level of 5%."
   ]
  },
  {
   "cell_type": "code",
   "execution_count": null,
   "metadata": {},
   "outputs": [],
   "source": []
  }
 ],
 "metadata": {
  "kernelspec": {
   "display_name": "Python 3",
   "language": "python",
   "name": "python3"
  },
  "language_info": {
   "codemirror_mode": {
    "name": "ipython",
    "version": 3
   },
   "file_extension": ".py",
   "mimetype": "text/x-python",
   "name": "python",
   "nbconvert_exporter": "python",
   "pygments_lexer": "ipython3",
   "version": "3.8.5"
  }
 },
 "nbformat": 4,
 "nbformat_minor": 4
}
