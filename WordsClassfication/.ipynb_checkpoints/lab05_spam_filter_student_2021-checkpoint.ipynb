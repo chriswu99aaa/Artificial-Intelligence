{
 "cells": [
  {
   "cell_type": "markdown",
   "metadata": {
    "colab_type": "text",
    "id": "EAdECfOXX_Gv"
   },
   "source": [
    "<h1>Introduction</h1>\n",
    "<p>In these lab notes we will introduce you to Naïve Bayes and your task is to implement a relatively simple spam filter.  We will use a small data set to train and test the model (available on Blackboard). </p> \n",
    "\n",
    "<b>Note:</b>  Use Jupyter Notebook or Google Colab (NOT Jupyter Lab).\n",
    "    \n",
    "<p>The messages within the datasets have already been classified as ham (not spam), or spam. </p> \n",
    "\n",
    "<p>The implementation of a Naïve Bayes Spam Filter is relatively straight forward using scikit-learn, however, this library hides the implementation details (and many solutions are available on the Internet).  Therefore, this task does not permit the use of the scikit-learn library or similar libraries that perform similar tasks.  We hope that this will help with your understanding of the implementation details.</p> \n",
    "<p>Bayes Theorem can give us the probability that a message is spam S for a given event E</p>\n",
    "\n",
    "<h1>\n",
    "$P\\left(S\\middle|\\ E\\right)=\\frac{P\\left(E\\middle|\\ S\\right)P\\left(S\\right)}{P\\left(E\\middle|\\ S\\right)P\\left(S\\right)+P\\left(E|\\lnot S\\right)P\\left(\\lnot S\\right)}$\n",
    "</h1>\n",
    "\n",
    "<p>Where:</p>\n",
    "<p>$P\\left(S\\middle|\\ E\\right)$, the probability that the message is spam given the event occurred.</p>\n",
    "<p>$P\\left(S\\right)$, the prior probability that a message is spam.</p>\n",
    "<p>$P\\left(\\lnot S\\right)$, the prior probability that a message is not spam.  </p>\n",
    "\n",
    "Note:  $P\\left(S\\right)$ and $P\\left(\\lnot S\\right)$ are prior values, or prior beliefs.  This value could be calculated using the number of spam and number of ham classifications in the data set.  You could also use arbitrary values, for example; you could assume that of all email messages sent, 80% of them are spam and 20% of them are not spam.  The success of the filter depends on the prior values.\n",
    "\n",
    "<p>$P\\left(E\\middle|\\ S\\right)$, the probability that event E occurs in a spam emails.</p>\n",
    "\n",
    "<p>$P\\left(E|\\lnot S\\right)$, the probability that event E occurs in non-spam emails.</p>\n",
    "\n",
    "<h3>Additional Libraries</h3>\n",
    "<p>As you progress through the exercises you may need additional libraries that are not installed, for example when visualising the data you may need to import WordCloud.  If you use [Google Colaboratory](https://colab.research.google.com/notebooks/intro.ipynb) the necessary libraries will be available, which will save you having to pip install.  </p>\n",
    "<h3>The Implementation</h3>\n",
    "<p>We have tried to keep the implementation quite simple and therefore not accounted for things like filtering small often used words, nor does the implementation calculate probabilities of a word in the frequency list not appearing in spam.  We have also filtered things like telephone numbers, which could be used to identify spam.   The final exercise allows you to make recommendations how the model could be improved.    </p>\n"
   ]
  },
  {
   "cell_type": "markdown",
   "metadata": {
    "colab_type": "text",
    "id": "ep6k47M5X_Gw"
   },
   "source": [
    "<h3>1.  Read the dataset into a dataframe and explore</h3>\n",
    "<p>Start by importing pandas and read the dataset into a DataFrame named df.  Output the first 20 rows of the dataframe to get a general feel of how the data is structured.</p>\n",
    "<p>You may encounter the error: UnicodeDecodeError: 'utf-8' codec can't decode bytes in position 135-136: invalid continuation byte.  You don't need to edit the datafile.  I was able to successfully read in the datafile by changing the encoding to latin-1.</p>\n",
    "\n"
   ]
  },
  {
   "cell_type": "code",
   "execution_count": 282,
   "metadata": {
    "colab": {},
    "colab_type": "code",
    "id": "vq43eDWcX_Gx"
   },
   "outputs": [
    {
     "data": {
      "text/html": [
       "<div>\n",
       "<style scoped>\n",
       "    .dataframe tbody tr th:only-of-type {\n",
       "        vertical-align: middle;\n",
       "    }\n",
       "\n",
       "    .dataframe tbody tr th {\n",
       "        vertical-align: top;\n",
       "    }\n",
       "\n",
       "    .dataframe thead th {\n",
       "        text-align: right;\n",
       "    }\n",
       "</style>\n",
       "<table border=\"1\" class=\"dataframe\">\n",
       "  <thead>\n",
       "    <tr style=\"text-align: right;\">\n",
       "      <th></th>\n",
       "      <th>v1</th>\n",
       "      <th>v2</th>\n",
       "      <th>Unnamed: 2</th>\n",
       "      <th>Unnamed: 3</th>\n",
       "      <th>Unnamed: 4</th>\n",
       "    </tr>\n",
       "  </thead>\n",
       "  <tbody>\n",
       "    <tr>\n",
       "      <th>0</th>\n",
       "      <td>ham</td>\n",
       "      <td>Go until jurong point, crazy.. Available only ...</td>\n",
       "      <td>NaN</td>\n",
       "      <td>NaN</td>\n",
       "      <td>NaN</td>\n",
       "    </tr>\n",
       "    <tr>\n",
       "      <th>1</th>\n",
       "      <td>ham</td>\n",
       "      <td>Ok lar... Joking wif u oni...</td>\n",
       "      <td>NaN</td>\n",
       "      <td>NaN</td>\n",
       "      <td>NaN</td>\n",
       "    </tr>\n",
       "    <tr>\n",
       "      <th>2</th>\n",
       "      <td>spam</td>\n",
       "      <td>Free entry in 2 a wkly comp to win FA Cup fina...</td>\n",
       "      <td>NaN</td>\n",
       "      <td>NaN</td>\n",
       "      <td>NaN</td>\n",
       "    </tr>\n",
       "    <tr>\n",
       "      <th>3</th>\n",
       "      <td>ham</td>\n",
       "      <td>U dun say so early hor... U c already then say...</td>\n",
       "      <td>NaN</td>\n",
       "      <td>NaN</td>\n",
       "      <td>NaN</td>\n",
       "    </tr>\n",
       "    <tr>\n",
       "      <th>4</th>\n",
       "      <td>ham</td>\n",
       "      <td>Nah I don't think he goes to usf, he lives aro...</td>\n",
       "      <td>NaN</td>\n",
       "      <td>NaN</td>\n",
       "      <td>NaN</td>\n",
       "    </tr>\n",
       "    <tr>\n",
       "      <th>5</th>\n",
       "      <td>spam</td>\n",
       "      <td>FreeMsg Hey there darling it's been 3 week's n...</td>\n",
       "      <td>NaN</td>\n",
       "      <td>NaN</td>\n",
       "      <td>NaN</td>\n",
       "    </tr>\n",
       "    <tr>\n",
       "      <th>6</th>\n",
       "      <td>ham</td>\n",
       "      <td>Even my brother is not like to speak with me. ...</td>\n",
       "      <td>NaN</td>\n",
       "      <td>NaN</td>\n",
       "      <td>NaN</td>\n",
       "    </tr>\n",
       "    <tr>\n",
       "      <th>7</th>\n",
       "      <td>ham</td>\n",
       "      <td>As per your request 'Melle Melle (Oru Minnamin...</td>\n",
       "      <td>NaN</td>\n",
       "      <td>NaN</td>\n",
       "      <td>NaN</td>\n",
       "    </tr>\n",
       "    <tr>\n",
       "      <th>8</th>\n",
       "      <td>spam</td>\n",
       "      <td>WINNER!! As a valued network customer you have...</td>\n",
       "      <td>NaN</td>\n",
       "      <td>NaN</td>\n",
       "      <td>NaN</td>\n",
       "    </tr>\n",
       "    <tr>\n",
       "      <th>9</th>\n",
       "      <td>spam</td>\n",
       "      <td>Had your mobile 11 months or more? U R entitle...</td>\n",
       "      <td>NaN</td>\n",
       "      <td>NaN</td>\n",
       "      <td>NaN</td>\n",
       "    </tr>\n",
       "    <tr>\n",
       "      <th>10</th>\n",
       "      <td>ham</td>\n",
       "      <td>I'm gonna be home soon and i don't want to tal...</td>\n",
       "      <td>NaN</td>\n",
       "      <td>NaN</td>\n",
       "      <td>NaN</td>\n",
       "    </tr>\n",
       "    <tr>\n",
       "      <th>11</th>\n",
       "      <td>spam</td>\n",
       "      <td>SIX chances to win CASH! From 100 to 20,000 po...</td>\n",
       "      <td>NaN</td>\n",
       "      <td>NaN</td>\n",
       "      <td>NaN</td>\n",
       "    </tr>\n",
       "    <tr>\n",
       "      <th>12</th>\n",
       "      <td>spam</td>\n",
       "      <td>URGENT! You have won a 1 week FREE membership ...</td>\n",
       "      <td>NaN</td>\n",
       "      <td>NaN</td>\n",
       "      <td>NaN</td>\n",
       "    </tr>\n",
       "    <tr>\n",
       "      <th>13</th>\n",
       "      <td>ham</td>\n",
       "      <td>I've been searching for the right words to tha...</td>\n",
       "      <td>NaN</td>\n",
       "      <td>NaN</td>\n",
       "      <td>NaN</td>\n",
       "    </tr>\n",
       "    <tr>\n",
       "      <th>14</th>\n",
       "      <td>ham</td>\n",
       "      <td>I HAVE A DATE ON SUNDAY WITH WILL!!</td>\n",
       "      <td>NaN</td>\n",
       "      <td>NaN</td>\n",
       "      <td>NaN</td>\n",
       "    </tr>\n",
       "    <tr>\n",
       "      <th>15</th>\n",
       "      <td>spam</td>\n",
       "      <td>XXXMobileMovieClub: To use your credit, click ...</td>\n",
       "      <td>NaN</td>\n",
       "      <td>NaN</td>\n",
       "      <td>NaN</td>\n",
       "    </tr>\n",
       "    <tr>\n",
       "      <th>16</th>\n",
       "      <td>ham</td>\n",
       "      <td>Oh k...i'm watching here:)</td>\n",
       "      <td>NaN</td>\n",
       "      <td>NaN</td>\n",
       "      <td>NaN</td>\n",
       "    </tr>\n",
       "    <tr>\n",
       "      <th>17</th>\n",
       "      <td>ham</td>\n",
       "      <td>Eh u remember how 2 spell his name... Yes i di...</td>\n",
       "      <td>NaN</td>\n",
       "      <td>NaN</td>\n",
       "      <td>NaN</td>\n",
       "    </tr>\n",
       "    <tr>\n",
       "      <th>18</th>\n",
       "      <td>ham</td>\n",
       "      <td>Fine if thatåÕs the way u feel. ThatåÕs the wa...</td>\n",
       "      <td>NaN</td>\n",
       "      <td>NaN</td>\n",
       "      <td>NaN</td>\n",
       "    </tr>\n",
       "    <tr>\n",
       "      <th>19</th>\n",
       "      <td>spam</td>\n",
       "      <td>England v Macedonia - dont miss the goals/team...</td>\n",
       "      <td>NaN</td>\n",
       "      <td>NaN</td>\n",
       "      <td>NaN</td>\n",
       "    </tr>\n",
       "  </tbody>\n",
       "</table>\n",
       "</div>"
      ],
      "text/plain": [
       "      v1                                                 v2 Unnamed: 2  \\\n",
       "0    ham  Go until jurong point, crazy.. Available only ...        NaN   \n",
       "1    ham                      Ok lar... Joking wif u oni...        NaN   \n",
       "2   spam  Free entry in 2 a wkly comp to win FA Cup fina...        NaN   \n",
       "3    ham  U dun say so early hor... U c already then say...        NaN   \n",
       "4    ham  Nah I don't think he goes to usf, he lives aro...        NaN   \n",
       "5   spam  FreeMsg Hey there darling it's been 3 week's n...        NaN   \n",
       "6    ham  Even my brother is not like to speak with me. ...        NaN   \n",
       "7    ham  As per your request 'Melle Melle (Oru Minnamin...        NaN   \n",
       "8   spam  WINNER!! As a valued network customer you have...        NaN   \n",
       "9   spam  Had your mobile 11 months or more? U R entitle...        NaN   \n",
       "10   ham  I'm gonna be home soon and i don't want to tal...        NaN   \n",
       "11  spam  SIX chances to win CASH! From 100 to 20,000 po...        NaN   \n",
       "12  spam  URGENT! You have won a 1 week FREE membership ...        NaN   \n",
       "13   ham  I've been searching for the right words to tha...        NaN   \n",
       "14   ham                I HAVE A DATE ON SUNDAY WITH WILL!!        NaN   \n",
       "15  spam  XXXMobileMovieClub: To use your credit, click ...        NaN   \n",
       "16   ham                         Oh k...i'm watching here:)        NaN   \n",
       "17   ham  Eh u remember how 2 spell his name... Yes i di...        NaN   \n",
       "18   ham  Fine if thatåÕs the way u feel. ThatåÕs the wa...        NaN   \n",
       "19  spam  England v Macedonia - dont miss the goals/team...        NaN   \n",
       "\n",
       "   Unnamed: 3 Unnamed: 4  \n",
       "0         NaN        NaN  \n",
       "1         NaN        NaN  \n",
       "2         NaN        NaN  \n",
       "3         NaN        NaN  \n",
       "4         NaN        NaN  \n",
       "5         NaN        NaN  \n",
       "6         NaN        NaN  \n",
       "7         NaN        NaN  \n",
       "8         NaN        NaN  \n",
       "9         NaN        NaN  \n",
       "10        NaN        NaN  \n",
       "11        NaN        NaN  \n",
       "12        NaN        NaN  \n",
       "13        NaN        NaN  \n",
       "14        NaN        NaN  \n",
       "15        NaN        NaN  \n",
       "16        NaN        NaN  \n",
       "17        NaN        NaN  \n",
       "18        NaN        NaN  \n",
       "19        NaN        NaN  "
      ]
     },
     "execution_count": 282,
     "metadata": {},
     "output_type": "execute_result"
    }
   ],
   "source": [
    "import pandas as pd\n",
    "import string\n",
    "from sklearn.model_selection import train_test_split\n",
    "from matplotlib import pyplot as plt\n",
    "from wordcloud import WordCloud, STOPWORDS, ImageColorGenerator\n",
    "import numpy as np\n",
    "\n",
    "df = pd.read_csv(\"spam.csv\", encoding=\"latin-1\")\n",
    "df.head(20)\n",
    "\n"
   ]
  },
  {
   "cell_type": "markdown",
   "metadata": {
    "colab_type": "text",
    "id": "W1HwlygYX_G2"
   },
   "source": [
    "<h3>2. Clean the data</h3>\n",
    "<p>We are only interested in words, clean the data so that all punctuations are removed.  You should be left with a dataset that only contains alpha characters (including spaces).  You should also ensure all the words are lowercase.  Store the cleaned data into a DataFrame named clean.</p>\n",
    "\n",
    "<table border=\"1\" class=\"dataframe\">\n",
    "  <thead>\n",
    "    <tr style=\"text-align: right;\">\n",
    "      <th></th>\n",
    "      <th>Category</th>\n",
    "      <th>Message</th>\n",
    "    </tr>\n",
    "  </thead>\n",
    "  <tbody>\n",
    "    <tr>\n",
    "      <th>0</th>\n",
    "      <td>ham</td>\n",
    "      <td>go until jurong point crazy available only in ...</td>\n",
    "    </tr>\n",
    "    <tr>\n",
    "      <th>1</th>\n",
    "      <td>ham</td>\n",
    "      <td>ok lar joking wif u oni</td>\n",
    "    </tr>\n",
    "    <tr>\n",
    "      <th>2</th>\n",
    "      <td>spam</td>\n",
    "      <td>free entry in  a wkly comp to win fa cup final...</td>\n",
    "    </tr>\n",
    "    <tr>\n",
    "      <th>3</th>\n",
    "      <td>ham</td>\n",
    "      <td>u dun say so early hor u c already then say</td>\n",
    "    </tr>\n",
    "    <tr>\n",
    "      <th>4</th>\n",
    "      <td>ham</td>\n",
    "      <td>nah i dont think he goes to usf he lives aroun...</td>\n",
    "    </tr>\n",
    "  </tbody>\n",
    "</table>\n",
    "\n"
   ]
  },
  {
   "cell_type": "code",
   "execution_count": 2,
   "metadata": {
    "colab": {},
    "colab_type": "code",
    "id": "JqppPCO_X_G3"
   },
   "outputs": [],
   "source": [
    "df = df.drop(columns=[\"Unnamed: 2\", \"Unnamed: 3\", \"Unnamed: 4\"])\n"
   ]
  },
  {
   "cell_type": "code",
   "execution_count": 3,
   "metadata": {},
   "outputs": [],
   "source": [
    "df.columns = ['Category', 'Message'] "
   ]
  },
  {
   "cell_type": "code",
   "execution_count": 4,
   "metadata": {},
   "outputs": [],
   "source": [
    "df['Message'] = df['Message'].str.lower()\n",
    "    "
   ]
  },
  {
   "cell_type": "code",
   "execution_count": 5,
   "metadata": {},
   "outputs": [],
   "source": [
    "df['Message'] = df['Message'].str.translate(str.maketrans('', '', string.punctuation))\n",
    "clean = df"
   ]
  },
  {
   "cell_type": "markdown",
   "metadata": {
    "colab_type": "text",
    "id": "CLTcpAMvX_G8"
   },
   "source": [
    "<h3>3. Split the Data</h3>\n",
    "<p>Split the data into two random samples, one for training the model and the other for testing the model.  Create DataFrames named train_data and test_data.  The train_data DataFrame should contain 75% of the data and the test_data DataFrame the remaining 25%.<p>  \n",
    "\n"
   ]
  },
  {
   "cell_type": "code",
   "execution_count": 6,
   "metadata": {
    "colab": {},
    "colab_type": "code",
    "id": "fgKwaz1yX_G9"
   },
   "outputs": [],
   "source": [
    "train_data, test_data = train_test_split(clean,train_size=0.75, test_size=0.25)"
   ]
  },
  {
   "cell_type": "code",
   "execution_count": 7,
   "metadata": {},
   "outputs": [
    {
     "data": {
      "text/html": [
       "<div>\n",
       "<style scoped>\n",
       "    .dataframe tbody tr th:only-of-type {\n",
       "        vertical-align: middle;\n",
       "    }\n",
       "\n",
       "    .dataframe tbody tr th {\n",
       "        vertical-align: top;\n",
       "    }\n",
       "\n",
       "    .dataframe thead th {\n",
       "        text-align: right;\n",
       "    }\n",
       "</style>\n",
       "<table border=\"1\" class=\"dataframe\">\n",
       "  <thead>\n",
       "    <tr style=\"text-align: right;\">\n",
       "      <th></th>\n",
       "      <th>Category</th>\n",
       "      <th>Message</th>\n",
       "    </tr>\n",
       "  </thead>\n",
       "  <tbody>\n",
       "    <tr>\n",
       "      <th>5199</th>\n",
       "      <td>ham</td>\n",
       "      <td>ugh my leg hurts musta overdid it on mon</td>\n",
       "    </tr>\n",
       "    <tr>\n",
       "      <th>943</th>\n",
       "      <td>ham</td>\n",
       "      <td>and also ive sorta blown him off a couple time...</td>\n",
       "    </tr>\n",
       "    <tr>\n",
       "      <th>1649</th>\n",
       "      <td>ham</td>\n",
       "      <td>its a laptop take it with you</td>\n",
       "    </tr>\n",
       "    <tr>\n",
       "      <th>4155</th>\n",
       "      <td>ham</td>\n",
       "      <td>yo call me when you get the chance a friend of...</td>\n",
       "    </tr>\n",
       "    <tr>\n",
       "      <th>2703</th>\n",
       "      <td>ham</td>\n",
       "      <td>yup no more already thanx 4 printing n handing...</td>\n",
       "    </tr>\n",
       "    <tr>\n",
       "      <th>...</th>\n",
       "      <td>...</td>\n",
       "      <td>...</td>\n",
       "    </tr>\n",
       "    <tr>\n",
       "      <th>3738</th>\n",
       "      <td>ham</td>\n",
       "      <td>did you stitch his trouser</td>\n",
       "    </tr>\n",
       "    <tr>\n",
       "      <th>2328</th>\n",
       "      <td>ham</td>\n",
       "      <td>that day you asked about anand number why</td>\n",
       "    </tr>\n",
       "    <tr>\n",
       "      <th>3924</th>\n",
       "      <td>ham</td>\n",
       "      <td>as if i wasnt having enough trouble sleeping</td>\n",
       "    </tr>\n",
       "    <tr>\n",
       "      <th>4355</th>\n",
       "      <td>ham</td>\n",
       "      <td>great so should i send you my account number</td>\n",
       "    </tr>\n",
       "    <tr>\n",
       "      <th>5381</th>\n",
       "      <td>spam</td>\n",
       "      <td>you have 1 new message call 02070836089</td>\n",
       "    </tr>\n",
       "  </tbody>\n",
       "</table>\n",
       "<p>4179 rows × 2 columns</p>\n",
       "</div>"
      ],
      "text/plain": [
       "     Category                                            Message\n",
       "5199      ham           ugh my leg hurts musta overdid it on mon\n",
       "943       ham  and also ive sorta blown him off a couple time...\n",
       "1649      ham                      its a laptop take it with you\n",
       "4155      ham  yo call me when you get the chance a friend of...\n",
       "2703      ham  yup no more already thanx 4 printing n handing...\n",
       "...       ...                                                ...\n",
       "3738      ham                         did you stitch his trouser\n",
       "2328      ham          that day you asked about anand number why\n",
       "3924      ham       as if i wasnt having enough trouble sleeping\n",
       "4355      ham       great so should i send you my account number\n",
       "5381     spam            you have 1 new message call 02070836089\n",
       "\n",
       "[4179 rows x 2 columns]"
      ]
     },
     "execution_count": 7,
     "metadata": {},
     "output_type": "execute_result"
    }
   ],
   "source": [
    "train_data"
   ]
  },
  {
   "cell_type": "markdown",
   "metadata": {
    "colab_type": "text",
    "id": "EU8azvVgX_HB"
   },
   "source": [
    "<h3>4. Create a Word Frequency DataFrame</h3>\n",
    "<p>Create a new DataFrame named word_freq that contains each word with the number of times it appears in a spam and a ham message.  You should use the train_data not the test_data.</p>\n",
    "<p>Below is an example of what the DataFrame would look like, <i>note</i> that your values may differ depending on how the data was split.</p>\n",
    "<table border=\"1\" class=\"dataframe\">\n",
    "  <thead>\n",
    "    <tr style=\"text-align: right;\">\n",
    "      <th></th>\n",
    "      <th>Word</th>\n",
    "      <th>#Spam</th>\n",
    "      <th>#Ham</th>\n",
    "    </tr>\n",
    "  </thead>\n",
    "  <tbody>\n",
    "    <tr>\n",
    "      <td>0</td>\n",
    "      <td>go</td>\n",
    "      <td>27</td>\n",
    "      <td>196</td>\n",
    "    </tr>\n",
    "    <tr>\n",
    "      <td>1</td>\n",
    "      <td>until</td>\n",
    "      <td>4</td>\n",
    "      <td>17</td>\n",
    "    </tr>\n",
    "    <tr>\n",
    "      <td>2</td>\n",
    "      <td>jurong</td>\n",
    "      <td>1</td>\n",
    "      <td>0</td>\n",
    "    </tr>\n",
    "    <tr>\n",
    "      <td>3</td>\n",
    "      <td>point</td>\n",
    "      <td>1</td>\n",
    "      <td>9</td>\n",
    "    </tr>\n",
    "    <tr>\n",
    "      <td>4</td>\n",
    "      <td>crazy</td>\n",
    "      <td>4</td>\n",
    "      <td>8</td>\n",
    "    </tr>\n",
    "    <tr>\n",
    "      <td>...</td>\n",
    "      <td>...</td>\n",
    "      <td>...</td>\n",
    "      <td>...</td>\n",
    "    </tr>\n",
    "    <tr>\n",
    "      <td>7253</td>\n",
    "      <td>salesman</td>\n",
    "      <td>1</td>\n",
    "      <td>0</td>\n",
    "    </tr>\n",
    "    <tr>\n",
    "      <td>7254</td>\n",
    "      <td>pity</td>\n",
    "      <td>1</td>\n",
    "      <td>0</td>\n",
    "    </tr>\n",
    "    <tr>\n",
    "      <td>7255</td>\n",
    "      <td>soany</td>\n",
    "      <td>1</td>\n",
    "      <td>0</td>\n",
    "    </tr>\n",
    "    <tr>\n",
    "      <td>7256</td>\n",
    "      <td>suggestions</td>\n",
    "      <td>1</td>\n",
    "      <td>0</td>\n",
    "    </tr>\n",
    "    <tr>\n",
    "      <td>7257</td>\n",
    "      <td>bitching</td>\n",
    "      <td>1</td>\n",
    "      <td>0</td>\n",
    "    </tr>\n",
    "  </tbody>\n",
    "</table>\n"
   ]
  },
  {
   "cell_type": "code",
   "execution_count": 186,
   "metadata": {
    "colab": {},
    "colab_type": "code",
    "id": "cJxL5N2BX_HC"
   },
   "outputs": [],
   "source": [
    "word_freq = pd.DataFrame(columns=['Word', '#Spam', '#Ham'])\n"
   ]
  },
  {
   "cell_type": "code",
   "execution_count": 187,
   "metadata": {},
   "outputs": [
    {
     "data": {
      "text/plain": [
       "Index(['Word', '#Spam', '#Ham'], dtype='object')"
      ]
     },
     "execution_count": 187,
     "metadata": {},
     "output_type": "execute_result"
    }
   ],
   "source": [
    "word_freq.columns"
   ]
  },
  {
   "cell_type": "code",
   "execution_count": 188,
   "metadata": {},
   "outputs": [
    {
     "data": {
      "text/html": [
       "<div>\n",
       "<style scoped>\n",
       "    .dataframe tbody tr th:only-of-type {\n",
       "        vertical-align: middle;\n",
       "    }\n",
       "\n",
       "    .dataframe tbody tr th {\n",
       "        vertical-align: top;\n",
       "    }\n",
       "\n",
       "    .dataframe thead th {\n",
       "        text-align: right;\n",
       "    }\n",
       "</style>\n",
       "<table border=\"1\" class=\"dataframe\">\n",
       "  <thead>\n",
       "    <tr style=\"text-align: right;\">\n",
       "      <th></th>\n",
       "      <th>Word</th>\n",
       "      <th>#Spam</th>\n",
       "      <th>#Ham</th>\n",
       "    </tr>\n",
       "  </thead>\n",
       "  <tbody>\n",
       "  </tbody>\n",
       "</table>\n",
       "</div>"
      ],
      "text/plain": [
       "Empty DataFrame\n",
       "Columns: [Word, #Spam, #Ham]\n",
       "Index: []"
      ]
     },
     "execution_count": 188,
     "metadata": {},
     "output_type": "execute_result"
    }
   ],
   "source": [
    "word_freq"
   ]
  },
  {
   "cell_type": "code",
   "execution_count": 189,
   "metadata": {
    "scrolled": true
   },
   "outputs": [],
   "source": [
    "spam = train_data[train_data['Category']=='spam']\n",
    "\n",
    "ham = train_data[train_data['Category']=='ham']\n",
    "\n",
    "spam_list = []\n",
    "for i in spam['Message']:\n",
    "    spam_list.extend(i.split(\" \"))\n",
    "for i in spam_list:\n",
    "    if i == '':\n",
    "        spam_list.remove(i)\n",
    "\n",
    "ham_list = []\n",
    "for i in ham['Message']:\n",
    "    ham_list.extend(i.split(' '))\n",
    "\n",
    "for i in ham_list:\n",
    "    if i=='':\n",
    "        ham_list.remove(i)\n",
    "spam_series = pd.Series(spam_list)\n",
    "ham_series = pd.Series(ham_list)\n",
    "spam_counts = spam_series.value_counts()\n",
    "ham_counts = ham_series.value_counts()\n",
    "# spam_counts[spam_counts.index=='to'].values[0]\n",
    "# index = spam_counts.index.isin(['jjjjj'])\n",
    "# len(spam_counts[index])\n"
   ]
  },
  {
   "cell_type": "code",
   "execution_count": 190,
   "metadata": {},
   "outputs": [
    {
     "data": {
      "text/plain": [
       "7232"
      ]
     },
     "execution_count": 190,
     "metadata": {},
     "output_type": "execute_result"
    }
   ],
   "source": [
    "spam.size\n",
    "ham.size"
   ]
  },
  {
   "cell_type": "code",
   "execution_count": 191,
   "metadata": {},
   "outputs": [],
   "source": [
    "word_list=[]\n",
    "for i in train_data['Message']:\n",
    "    word_list.extend(i.split(' '))\n",
    "\n",
    "for i in word_list:\n",
    "    if i == '':\n",
    "        word_list.remove(i)\n"
   ]
  },
  {
   "cell_type": "markdown",
   "metadata": {},
   "source": [
    "One word might appear multiple times, so we only intereste in unique words. "
   ]
  },
  {
   "cell_type": "code",
   "execution_count": 192,
   "metadata": {},
   "outputs": [
    {
     "data": {
      "text/plain": [
       "63718"
      ]
     },
     "execution_count": 192,
     "metadata": {},
     "output_type": "execute_result"
    }
   ],
   "source": [
    "len(word_list)"
   ]
  },
  {
   "cell_type": "code",
   "execution_count": 193,
   "metadata": {},
   "outputs": [
    {
     "data": {
      "text/plain": [
       "8036"
      ]
     },
     "execution_count": 193,
     "metadata": {},
     "output_type": "execute_result"
    }
   ],
   "source": [
    "word_list = list(set(word_list))\n",
    "len(word_list)"
   ]
  },
  {
   "cell_type": "code",
   "execution_count": 194,
   "metadata": {},
   "outputs": [],
   "source": [
    "for word in word_list:\n",
    "    index_spam = spam_counts.index.isin([word])\n",
    "    index_ham = ham_counts.index.isin([word])\n",
    "    s_word_count = spam_counts[index_spam].values\n",
    "    h_word_count = ham_counts[index_ham].values\n",
    "    if len(s_word_count) !=0 and len(h_word_count!=0):\n",
    "#         normal condition to make a new dataframe\n",
    "        s_input = s_word_count[0]\n",
    "        h_input = h_word_count[0]\n",
    "        new_row = {'Word':word, '#Spam':s_input, '#Ham': h_input}\n",
    "        word_freq = word_freq.append(new_row, ignore_index=True)\n",
    "\n",
    "    if len(s_word_count)==0:\n",
    "#         when the word has not been appeared in spam email\n",
    "        s_input = 0\n",
    "        h_input = h_word_count[0]\n",
    "        new_row = {'Word':word, '#Spam':s_input, '#Ham': h_input}\n",
    "        word_freq = word_freq.append(new_row, ignore_index=True)\n",
    "\n",
    "    if len(h_word_count)==0:\n",
    "#         when the word has not been appeared in ham email\n",
    "        s_input = s_word_count[0]\n",
    "        h_input = 0\n",
    "        new_row = {'Word':word, '#Spam':s_input, '#Ham': h_input}\n",
    "        word_freq = word_freq.append(new_row, ignore_index=True)\n",
    "\n"
   ]
  },
  {
   "cell_type": "code",
   "execution_count": 195,
   "metadata": {},
   "outputs": [
    {
     "data": {
      "text/html": [
       "<div>\n",
       "<style scoped>\n",
       "    .dataframe tbody tr th:only-of-type {\n",
       "        vertical-align: middle;\n",
       "    }\n",
       "\n",
       "    .dataframe tbody tr th {\n",
       "        vertical-align: top;\n",
       "    }\n",
       "\n",
       "    .dataframe thead th {\n",
       "        text-align: right;\n",
       "    }\n",
       "</style>\n",
       "<table border=\"1\" class=\"dataframe\">\n",
       "  <thead>\n",
       "    <tr style=\"text-align: right;\">\n",
       "      <th></th>\n",
       "      <th>Word</th>\n",
       "      <th>#Spam</th>\n",
       "      <th>#Ham</th>\n",
       "    </tr>\n",
       "  </thead>\n",
       "  <tbody>\n",
       "    <tr>\n",
       "      <th>0</th>\n",
       "      <td></td>\n",
       "      <td>0</td>\n",
       "      <td>74</td>\n",
       "    </tr>\n",
       "    <tr>\n",
       "      <th>1</th>\n",
       "      <td>loveme</td>\n",
       "      <td>0</td>\n",
       "      <td>2</td>\n",
       "    </tr>\n",
       "    <tr>\n",
       "      <th>2</th>\n",
       "      <td>inforingtonekingcouk</td>\n",
       "      <td>1</td>\n",
       "      <td>0</td>\n",
       "    </tr>\n",
       "    <tr>\n",
       "      <th>3</th>\n",
       "      <td>150psms</td>\n",
       "      <td>1</td>\n",
       "      <td>0</td>\n",
       "    </tr>\n",
       "    <tr>\n",
       "      <th>4</th>\n",
       "      <td>slowly</td>\n",
       "      <td>0</td>\n",
       "      <td>7</td>\n",
       "    </tr>\n",
       "    <tr>\n",
       "      <th>...</th>\n",
       "      <td>...</td>\n",
       "      <td>...</td>\n",
       "      <td>...</td>\n",
       "    </tr>\n",
       "    <tr>\n",
       "      <th>8031</th>\n",
       "      <td>responcewhat</td>\n",
       "      <td>0</td>\n",
       "      <td>3</td>\n",
       "    </tr>\n",
       "    <tr>\n",
       "      <th>8032</th>\n",
       "      <td>getting</td>\n",
       "      <td>4</td>\n",
       "      <td>35</td>\n",
       "    </tr>\n",
       "    <tr>\n",
       "      <th>8033</th>\n",
       "      <td>dorm</td>\n",
       "      <td>0</td>\n",
       "      <td>1</td>\n",
       "    </tr>\n",
       "    <tr>\n",
       "      <th>8034</th>\n",
       "      <td>wildest</td>\n",
       "      <td>1</td>\n",
       "      <td>0</td>\n",
       "    </tr>\n",
       "    <tr>\n",
       "      <th>8035</th>\n",
       "      <td>07753741225</td>\n",
       "      <td>1</td>\n",
       "      <td>0</td>\n",
       "    </tr>\n",
       "  </tbody>\n",
       "</table>\n",
       "<p>8036 rows × 3 columns</p>\n",
       "</div>"
      ],
      "text/plain": [
       "                      Word #Spam #Ham\n",
       "0                              0   74\n",
       "1                   loveme     0    2\n",
       "2     inforingtonekingcouk     1    0\n",
       "3                  150psms     1    0\n",
       "4                   slowly     0    7\n",
       "...                    ...   ...  ...\n",
       "8031          responcewhat     0    3\n",
       "8032               getting     4   35\n",
       "8033                  dorm     0    1\n",
       "8034               wildest     1    0\n",
       "8035           07753741225     1    0\n",
       "\n",
       "[8036 rows x 3 columns]"
      ]
     },
     "execution_count": 195,
     "metadata": {},
     "output_type": "execute_result"
    }
   ],
   "source": [
    "word_freq"
   ]
  },
  {
   "cell_type": "markdown",
   "metadata": {
    "colab_type": "text",
    "id": "1DBTOQpJbSqE"
   },
   "source": [
    "<h3>5. Visualise the Data</h3>\n",
    "<p>Let's use a Word Cloud library to visualise the most common words contained in spam messages.</p>\n",
    "\n",
    "[Example of a Word Cloud Image](https://drive.google.com/open?id=1lVRGHtMB1AMJf-JSi7MmcHbZB_BvBhGC)\n",
    "\n",
    "\n"
   ]
  },
  {
   "cell_type": "code",
   "execution_count": 196,
   "metadata": {
    "colab": {},
    "colab_type": "code",
    "id": "2mmdY8jWbkgS"
   },
   "outputs": [],
   "source": [
    "spam_frequency = pd.Series(word_freq['#Spam'].values, index=word_freq['Word']).to_dict()\n",
    "spam_cloud = WordCloud(background_color='white').fit_words(spam_frequency)\n",
    "\n",
    "ham_frequency = pd.Series(word_freq['#Ham'].values, index=word_freq['Word']).to_dict()\n",
    "ham_cloud = WordCloud(background_color='white').fit_words(ham_frequency)"
   ]
  },
  {
   "cell_type": "code",
   "execution_count": 197,
   "metadata": {},
   "outputs": [
    {
     "data": {
      "text/plain": [
       "<matplotlib.image.AxesImage at 0x7f8b144282e0>"
      ]
     },
     "execution_count": 197,
     "metadata": {},
     "output_type": "execute_result"
    },
    {
     "data": {
      "image/png": "[encoded data removed]",
      "text/plain": [
       "<Figure size 432x288 with 1 Axes>"
      ]
     },
     "metadata": {
      "needs_background": "light"
     },
     "output_type": "display_data"
    }
   ],
   "source": [
    "plt.imshow(word_cloud)"
   ]
  },
  {
   "cell_type": "code",
   "execution_count": 198,
   "metadata": {},
   "outputs": [
    {
     "data": {
      "text/plain": [
       "<matplotlib.image.AxesImage at 0x7f8b42424970>"
      ]
     },
     "execution_count": 198,
     "metadata": {},
     "output_type": "execute_result"
    },
    {
     "data": {
      "image/png": "[encoded data removed]",
      "text/plain": [
       "<Figure size 432x288 with 1 Axes>"
      ]
     },
     "metadata": {
      "needs_background": "light"
     },
     "output_type": "display_data"
    }
   ],
   "source": [
    "plt.imshow(ham_cloud)"
   ]
  },
  {
   "cell_type": "markdown",
   "metadata": {
    "colab_type": "text",
    "id": "bVpFmJ5kX_HG"
   },
   "source": [
    "<h3>6.  Calculate $P\\left(E\\middle| S\\right)$ and $P\\left(E|\\lnot S\\right)$</h3>\n",
    "<p>Next create a new DataFrame named word_prob that gives the probability of each word being found in a spam and ham message.</p>\n",
    "<p>To calculate the probability of a word being spam you divide the number of times the word was found in spam by the total number of spam messages, likewise to calculate the probability of each word being found in a ham message you divide the number of times the word was found in a ham message by the total number of ham messages.</p>\n",
    "<p>If a word was not found in ham or spam it will cause problems later because the probability calculated will be zero. Therefore, use a pseudocount k and estimate the probability of seeing the word. This is known as smoothing and results in the following formula when k = 0.5, for example.</p>\n",
    "<p>$P\\left(E\\middle| S\\right)$ = (number of spams containing the word + k) / (total number of spam messages + 2 * k).</p>\n",
    "<p>Likewise, for $P\\left(E|\\lnot S\\right)$.</p>\n",
    "<table border=\"1\" class=\"dataframe\">\n",
    "  <thead>\n",
    "    <tr style=\"text-align: right;\">\n",
    "      <th></th>\n",
    "      <th>Word</th>\n",
    "      <th>P(E|S)</th>\n",
    "      <th>P(E|¬S)</th>\n",
    "    </tr>\n",
    "  </thead>\n",
    "  <tbody>\n",
    "    <tr>\n",
    "      <th>0</th>\n",
    "      <td>go</td>\n",
    "      <td>0.053322</td>\n",
    "      <td>0.050055</td>\n",
    "    </tr>\n",
    "    <tr>\n",
    "      <th>1</th>\n",
    "      <td>until</td>\n",
    "      <td>0.011364</td>\n",
    "      <td>0.004275</td>\n",
    "    </tr>\n",
    "    <tr>\n",
    "      <th>2</th>\n",
    "      <td>jurong</td>\n",
    "      <td>0.002622</td>\n",
    "      <td>0.000138</td>\n",
    "    </tr>\n",
    "    <tr>\n",
    "      <th>3</th>\n",
    "      <td>point</td>\n",
    "      <td>0.002622</td>\n",
    "      <td>0.002344</td>\n",
    "    </tr>\n",
    "    <tr>\n",
    "      <th>4</th>\n",
    "      <td>crazy</td>\n",
    "      <td>0.011364</td>\n",
    "      <td>0.002344</td>\n",
    "    </tr>\n",
    "  </tbody>\n",
    "</table>\n",
    "\n"
   ]
  },
  {
   "cell_type": "code",
   "execution_count": 199,
   "metadata": {
    "colab": {},
    "colab_type": "code",
    "id": "U2kaXmftX_HH"
   },
   "outputs": [],
   "source": [
    "word_prob = pd.DataFrame(columns=['Word', 'P(E|S)', 'P(E|¬S)'])"
   ]
  },
  {
   "cell_type": "code",
   "execution_count": 200,
   "metadata": {},
   "outputs": [],
   "source": [
    "spam_size = spam.size\n",
    "ham_size = ham.size"
   ]
  },
  {
   "cell_type": "code",
   "execution_count": 201,
   "metadata": {},
   "outputs": [
    {
     "data": {
      "text/plain": [
       "0.00044365572315882877"
      ]
     },
     "execution_count": 201,
     "metadata": {},
     "output_type": "execute_result"
    }
   ],
   "source": [
    "# An simulation to the process\n",
    "word_test = word_freq.iloc[0]['Word']\n",
    "spam_test = word_freq.iloc[0]['#Spam']\n",
    "ham_test = word_freq.iloc[0]['#Ham']\n",
    "k = 0.5\n",
    "in_spam = (spam_test + k)/(spam_size + 2*k)\n",
    "in_spam"
   ]
  },
  {
   "cell_type": "code",
   "execution_count": 202,
   "metadata": {},
   "outputs": [],
   "source": [
    "for i in range(len(word_freq['Word'])):\n",
    "    word = word_freq.iloc[i]['Word']\n",
    "    freq_in_spam = word_freq.iloc[i]['#Spam']\n",
    "    freq_notin_spam = word_freq.iloc[i]['#Ham']\n",
    "    prob_in_spam = (freq_in_spam + k)/(spam_size + 2*k)\n",
    "    prob_notin_spam = (freq_notin_spam + k)/(ham_size + 2*k)\n",
    "    \n",
    "    row = {\"Word\": word, \"P(E|S)\":prob_in_spam, \"P(E|¬S)\": prob_notin_spam}\n",
    "    word_prob = word_prob.append(row, ignore_index=True)\n",
    "    "
   ]
  },
  {
   "cell_type": "code",
   "execution_count": 203,
   "metadata": {},
   "outputs": [
    {
     "data": {
      "text/html": [
       "<div>\n",
       "<style scoped>\n",
       "    .dataframe tbody tr th:only-of-type {\n",
       "        vertical-align: middle;\n",
       "    }\n",
       "\n",
       "    .dataframe tbody tr th {\n",
       "        vertical-align: top;\n",
       "    }\n",
       "\n",
       "    .dataframe thead th {\n",
       "        text-align: right;\n",
       "    }\n",
       "</style>\n",
       "<table border=\"1\" class=\"dataframe\">\n",
       "  <thead>\n",
       "    <tr style=\"text-align: right;\">\n",
       "      <th></th>\n",
       "      <th>Word</th>\n",
       "      <th>P(E|S)</th>\n",
       "      <th>P(E|¬S)</th>\n",
       "    </tr>\n",
       "  </thead>\n",
       "  <tbody>\n",
       "    <tr>\n",
       "      <th>0</th>\n",
       "      <td></td>\n",
       "      <td>0.000444</td>\n",
       "      <td>0.010300</td>\n",
       "    </tr>\n",
       "    <tr>\n",
       "      <th>1</th>\n",
       "      <td>loveme</td>\n",
       "      <td>0.000444</td>\n",
       "      <td>0.000346</td>\n",
       "    </tr>\n",
       "    <tr>\n",
       "      <th>2</th>\n",
       "      <td>inforingtonekingcouk</td>\n",
       "      <td>0.001331</td>\n",
       "      <td>0.000069</td>\n",
       "    </tr>\n",
       "    <tr>\n",
       "      <th>3</th>\n",
       "      <td>150psms</td>\n",
       "      <td>0.001331</td>\n",
       "      <td>0.000069</td>\n",
       "    </tr>\n",
       "    <tr>\n",
       "      <th>4</th>\n",
       "      <td>slowly</td>\n",
       "      <td>0.000444</td>\n",
       "      <td>0.001037</td>\n",
       "    </tr>\n",
       "    <tr>\n",
       "      <th>...</th>\n",
       "      <td>...</td>\n",
       "      <td>...</td>\n",
       "      <td>...</td>\n",
       "    </tr>\n",
       "    <tr>\n",
       "      <th>8031</th>\n",
       "      <td>responcewhat</td>\n",
       "      <td>0.000444</td>\n",
       "      <td>0.000484</td>\n",
       "    </tr>\n",
       "    <tr>\n",
       "      <th>8032</th>\n",
       "      <td>getting</td>\n",
       "      <td>0.003993</td>\n",
       "      <td>0.004908</td>\n",
       "    </tr>\n",
       "    <tr>\n",
       "      <th>8033</th>\n",
       "      <td>dorm</td>\n",
       "      <td>0.000444</td>\n",
       "      <td>0.000207</td>\n",
       "    </tr>\n",
       "    <tr>\n",
       "      <th>8034</th>\n",
       "      <td>wildest</td>\n",
       "      <td>0.001331</td>\n",
       "      <td>0.000069</td>\n",
       "    </tr>\n",
       "    <tr>\n",
       "      <th>8035</th>\n",
       "      <td>07753741225</td>\n",
       "      <td>0.001331</td>\n",
       "      <td>0.000069</td>\n",
       "    </tr>\n",
       "  </tbody>\n",
       "</table>\n",
       "<p>8036 rows × 3 columns</p>\n",
       "</div>"
      ],
      "text/plain": [
       "                      Word    P(E|S)   P(E|¬S)\n",
       "0                           0.000444  0.010300\n",
       "1                   loveme  0.000444  0.000346\n",
       "2     inforingtonekingcouk  0.001331  0.000069\n",
       "3                  150psms  0.001331  0.000069\n",
       "4                   slowly  0.000444  0.001037\n",
       "...                    ...       ...       ...\n",
       "8031          responcewhat  0.000444  0.000484\n",
       "8032               getting  0.003993  0.004908\n",
       "8033                  dorm  0.000444  0.000207\n",
       "8034               wildest  0.001331  0.000069\n",
       "8035           07753741225  0.001331  0.000069\n",
       "\n",
       "[8036 rows x 3 columns]"
      ]
     },
     "execution_count": 203,
     "metadata": {},
     "output_type": "execute_result"
    }
   ],
   "source": [
    "word_prob"
   ]
  },
  {
   "cell_type": "code",
   "execution_count": 204,
   "metadata": {},
   "outputs": [
    {
     "data": {
      "text/plain": [
       "Word               yam\n",
       "P(E|S)     0.000443656\n",
       "P(E|¬S)    0.000207383\n",
       "Name: 54, dtype: object"
      ]
     },
     "execution_count": 204,
     "metadata": {},
     "output_type": "execute_result"
    }
   ],
   "source": [
    "word_prob['P(E|S)'].idxmax()\n",
    "word_prob.iloc[54]"
   ]
  },
  {
   "cell_type": "markdown",
   "metadata": {
    "colab_type": "text",
    "id": "iagF4brWA5QO"
   },
   "source": [
    "<h3>7. Checking the 'spamliness' of a single word</h3>\n",
    "<p>Now that we have trained the model, we will test the model.  Before we use the test_data, first let’s check how the model calculates the spamliness of a single word.  This is where we use the Bayes Theorem formula.  We have already calculated $P\\left(E\\middle| S\\right)$ and $P\\left(E|\\lnot S\\right)$, so we can just extract these values from the word_prob DataFrame.</p>\n",
    "<p>We need to decide on the prior values $P\\left(S\\right)$ and $P\\left(\\lnot S\\right)$, this is where you can experiment and tweak the model, in this example the prior value for spam was set to $0.4$ and the prior value for not spam or ham was set to $0.6$.</p>\n",
    "<h3>\n",
    "$P\\left(S\\middle|\\ E\\right)=\\frac{P\\left(E\\middle|\\ S\\right)P\\left(S\\right)}{P\\left(E\\middle|\\ S\\right)P\\left(S\\right)+P\\left(E|\\lnot S\\right)P\\left(\\lnot S\\right)}$\n",
    "</h3>\n",
    "<pre>\n",
    "Output\n",
    "Word = ['free']\n",
    "P(E|S) = [0.29108392]\n",
    "P(E|¬S) = [0.01365141]\n",
    "P(S|E) = [0.93427577]\n",
    "P(¬S|E) = [0.06572423]\n",
    "</pre>\n"
   ]
  },
  {
   "cell_type": "code",
   "execution_count": 205,
   "metadata": {},
   "outputs": [
    {
     "name": "stdout",
     "output_type": "stream",
     "text": [
      "7232\n",
      "1126\n"
     ]
    }
   ],
   "source": [
    "print(ham_size)\n",
    "print(spam_size)"
   ]
  },
  {
   "cell_type": "markdown",
   "metadata": {},
   "source": [
    "I dicided to use the probability of a prior for spam by divide spam size by dataset size"
   ]
  },
  {
   "cell_type": "code",
   "execution_count": 206,
   "metadata": {
    "colab": {},
    "colab_type": "code",
    "id": "NS-KBvz4-YhJ"
   },
   "outputs": [
    {
     "name": "stdout",
     "output_type": "stream",
     "text": [
      "Word: blue\n",
      "P(E|S): 0.00044365572315882877\n",
      "P(E|¬S): 0.0011751693626434398\n",
      "P(S): 0.13472122517348648\n",
      "P(¬S): 0.8652787748265135\n",
      "P(S|E): 0.05551624615208685\n"
     ]
    }
   ],
   "source": [
    "test_word = word_prob.iloc[78]\n",
    "# prob_given_spam = \n",
    "prob_given_spam = test_word[1]\n",
    "prob_given_not_spam = test_word[2]\n",
    "spam_prior = spam_size/(ham_size + spam_size)\n",
    "not_spam_prior = ham_size/(ham_size + spam_size)\n",
    "\n",
    "prob_spam_given_word = (prob_given_spam * spam_prior)/(prob_given_spam*spam_prior + prob_given_not_spam*not_spam_prior)\n",
    "\n",
    "print(\"Word: \" + test_word[0])\n",
    "print(\"P(E|S): \" + str(test_word[1]))\n",
    "print(\"P(E|¬S): \" + str(test_word[2]))\n",
    "print(\"P(S): \" + str(spam_prior))\n",
    "print(\"P(¬S): \" + str(not_spam_prior))\n",
    "print(\"P(S|E): \" + str(prob_spam_given_word))\n",
    "\n"
   ]
  },
  {
   "cell_type": "markdown",
   "metadata": {
    "colab_type": "text",
    "id": "NiU4nDFrNW-7"
   },
   "source": [
    "<h3>8. Checking the 'spamliness' of several words</h3>\n",
    "<p>To check the spamliness of several words contained in a message we multiply the probabilities.  The model assumes the words appear as independent events hence the naïve Bayes.  In reality of course, words are not independent events, but the model still performs well.  So we use the assumption that the words appear independently, and hence we multiply probabilities, so\n",
    "$P(S\\,|\\, x_1,\\dots,x_n)\\approx \\frac{P(S)\\underset{i=1}{\\overset{n}{\\prod}}P(x_i | S)}{P(S)\\underset{i=1}{\\overset{n}{\\prod}}P(x_i | S)+P(\\neg S)\\underset{i=1}{\\overset{n}{\\prod}}P(x_i | \\neg S)}$\n",
    "\n",
    "Calculate the probability for each word in a message being spam, you might want to store the calculations in a list named prob_spam.  Likewise create a list for each word not being spam.\n",
    "Then multiply the probabilities and compare the results.  If the result of multiplying the probabilities for spam is greater than the result of multiplying the probabilities for not spam, then you assume the message as spam.\n",
    "</p>\n",
    "<p>If you have a word in your message that is not in the word_prob DataFrame then you can't get the probability.  Skip any words in the message that are not in the word_prob DataFrame.</p>\n"
   ]
  },
  {
   "cell_type": "code",
   "execution_count": 235,
   "metadata": {
    "colab": {},
    "colab_type": "code",
    "id": "PGK027jUNlU7"
   },
   "outputs": [
    {
     "data": {
      "text/plain": [
       "['and',\n",
       " 'also',\n",
       " 'ive',\n",
       " 'sorta',\n",
       " 'blown',\n",
       " 'him',\n",
       " 'off',\n",
       " 'a',\n",
       " 'couple',\n",
       " 'times',\n",
       " 'recently',\n",
       " 'so',\n",
       " 'id',\n",
       " 'rather',\n",
       " 'not',\n",
       " 'text',\n",
       " 'him',\n",
       " 'out',\n",
       " 'of',\n",
       " 'the',\n",
       " 'blue',\n",
       " 'looking',\n",
       " 'for',\n",
       " 'weed']"
      ]
     },
     "execution_count": 235,
     "metadata": {},
     "output_type": "execute_result"
    }
   ],
   "source": [
    "s = train_data.iloc[1]['Message']\n",
    "s_list = s.split(' ')\n",
    "s_list\n"
   ]
  },
  {
   "cell_type": "code",
   "execution_count": 231,
   "metadata": {
    "scrolled": true
   },
   "outputs": [
    {
     "data": {
      "text/plain": [
       "187    0.000444\n",
       "Name: P(E|S), dtype: float64"
      ]
     },
     "execution_count": 231,
     "metadata": {},
     "output_type": "execute_result"
    }
   ],
   "source": [
    "\n",
    "index = word_prob['Word'].isin(['leg']).values\n",
    "word_prob[index]['P(E|S)']"
   ]
  },
  {
   "cell_type": "code",
   "execution_count": 262,
   "metadata": {},
   "outputs": [],
   "source": [
    "prob_spam = list()\n",
    "prob_not_spam = list()\n"
   ]
  },
  {
   "cell_type": "code",
   "execution_count": 263,
   "metadata": {},
   "outputs": [
    {
     "name": "stdout",
     "output_type": "stream",
     "text": [
      "[0.08030169]\n",
      "[0.08882898]\n"
     ]
    }
   ],
   "source": [
    "\n",
    "for i in s_list:\n",
    "    if i in word_prob['Word'].values:\n",
    "        word_indx = word_prob['Word'].isin([i]).values\n",
    "        word_info = word_prob[word_indx]\n",
    "        word_spam = word_info['P(E|S)']\n",
    "        word_not_spam = word_info['P(E|¬S)']\n",
    "        prob_spam.append(word_spam)\n",
    "        prob_not_spam.append(word_not_spam)\n",
    "    else:\n",
    "        continue\n",
    "\n",
    "print(prob_spam[0].values)\n",
    "print(prob_not_spam[0].values)"
   ]
  },
  {
   "cell_type": "code",
   "execution_count": 269,
   "metadata": {},
   "outputs": [],
   "source": [
    "for i in range(len(prob_spam)):\n",
    "    if i == 0:\n",
    "        prob_sentence_spam = prob_spam[i].values\n",
    "    else:\n",
    "        prob_sentence_spam *= prob_spam[i].values\n",
    "\n",
    "for i in range(len(prob_not_spam)):\n",
    "    if i==0:\n",
    "        prob_sen_notSpam = prob_not_spam[i].values\n",
    "    else:\n",
    "        prob_sen_notSpam *= prob_not_spam[i].values"
   ]
  },
  {
   "cell_type": "code",
   "execution_count": 272,
   "metadata": {},
   "outputs": [
    {
     "name": "stdout",
     "output_type": "stream",
     "text": [
      "1.036606743640068e-110\n",
      "8.416281574814666e-54\n",
      "This is a ham\n"
     ]
    }
   ],
   "source": [
    "\n",
    "print(prob_sentence_spam[0])\n",
    "print(prob_sen_notSpam[0])\n",
    "\n",
    "if prob_sentence_spam > prob_sen_notSpam:\n",
    "    print(\"This is is a spam\")\n",
    "else:\n",
    "    print(\"This is a ham\")\n"
   ]
  },
  {
   "cell_type": "markdown",
   "metadata": {
    "colab_type": "text",
    "id": "oE6CsYaev-w_"
   },
   "source": [
    "<h3>9. Avoiding floating point underflow</h3>\n",
    "<p>Our aim is to compare two probabilities $P(S|x_1,\\dots,x_n)$ with $P(\\neg S|x_1,\\dots,x_n),$ according to our model introduced in Section 8, both probabilities share a common denominator which does not affect comparison. Hence we will calculate numerators only, which are proportional to $P(S|x_1,\\dots,x_n)$ and $P(\\neg S|x_1,\\dots,x_n).$\n",
    "</p>\n",
    "\n",
    "<p>Multiplying a set of small probabilities could result in a floating-point error.  This is where the product becomes too small to be represented correctly.  To avoid this we can take the logarithm of the probabilities and add them.  \n",
    "\n",
    "To avoid multiplication of small numbers, we use the following property of $\\log(x):$</p>\n",
    "$$\n",
    "\\log(a\\cdot b)=\\log(a)+\\log(b)\n",
    "$$\n",
    "<p>i.e. the log of the product is equal to the sum of logs (so instead of multiplying small numbers we will add them):</p>\n",
    "$$\n",
    "P(S|x_1,x_2,\\dots,x_n)\\propto P(S)\\cdot P(x_1|S)\\cdot \\dots \\cdot P(x_n|S)$$\n",
    "<p>becomes</p>\n",
    "$$\\log(P(S|x_1,x_2,\\dots,x_n))\\propto \\log\\left(P(S)\\cdot P(x_1|S)\\cdot \\dots  P(x_n|S)\\right)=$$ $$\n",
    "\\log(P(S))+\\log(P(x_1|S))+\\dots+\\log(P(x_n|S))\n",
    "$$\n",
    "<p>So, to check spam or ham we just compare:</p>\n",
    "$$\n",
    "\\log(P(S))+\\log(P(x_1|S))+\\dots+\\log(P(x_n|S))\n",
    "$$\n",
    "<p>and </p>\n",
    "$$\n",
    "\\log(P(\\neg S))+\\log(P(x_1|\\neg S))+\\dots+\\log(P(x_n|\\neg S))\n",
    "$$\n",
    "\n",
    "\n",
    "Change the equation so that logs are used.\n",
    "</p>\n"
   ]
  },
  {
   "cell_type": "code",
   "execution_count": 307,
   "metadata": {},
   "outputs": [
    {
     "data": {
      "text/plain": [
       "array([], dtype=float64)"
      ]
     },
     "execution_count": 307,
     "metadata": {},
     "output_type": "execute_result"
    }
   ],
   "source": [
    "# np.log(prob_spam[0].values)"
   ]
  },
  {
   "cell_type": "code",
   "execution_count": 295,
   "metadata": {
    "colab": {},
    "colab_type": "code",
    "id": "4JYfU0vixQFw"
   },
   "outputs": [
    {
     "name": "stdout",
     "output_type": "stream",
     "text": [
      "Probability of being spam is: -378.6116290639161\n",
      "Probability of not being spam is-241.9978114682387\n",
      "This is a Ham\n"
     ]
    }
   ],
   "source": [
    "# prob_spam[1].values[0]\n",
    "for i in range(len(prob_spam)):\n",
    "    if i == 0:\n",
    "        log_prob_spam = np.log(prob_spam[i].values[0])\n",
    "#         print(log_prob_spam)\n",
    "    else:\n",
    "        log_num = np.log(prob_spam[i].values[0])\n",
    "        log_prob_spam += log_num\n",
    "\n",
    "for i in range(len(prob_not_spam)):\n",
    "    if i==0:\n",
    "        log_not_spam = np.log(prob_not_spam[i].values[0])\n",
    "    else:\n",
    "        log_not_spam += np.log(prob_not_spam[i].values[0])\n",
    "\n",
    "print(\"Probability of being spam is: \" + str(log_prob_spam))\n",
    "print(\"Probability of not being spam is\"+ str(log_not_spam))\n",
    "if log_not_spam > log_prob_spam:\n",
    "    print(\"This is a Ham\")\n",
    "else:\n",
    "    print(\"This is a Spam\")\n",
    "    \n"
   ]
  },
  {
   "cell_type": "markdown",
   "metadata": {
    "colab_type": "text",
    "id": "ZtiGi5X37b0G"
   },
   "source": [
    "<h3>10. Testing the Model</h3>\n",
    "<p>Now that we have tested the model using simple messages.  Let’s test the model using the messages from the test_set.  You should implement counters that displays how your model has performed and calculate the accuracy of the model.</p>\n",
    "<pre>\n",
    "match_spam 173\n",
    "match_ham 843\n",
    "thought_ham_is_spam 3\n",
    "thought_spam_is_ham 357\n",
    "Accuracy: 0.7383720930232558\n",
    "</pre>\n",
    "\n"
   ]
  },
  {
   "cell_type": "code",
   "execution_count": 300,
   "metadata": {
    "colab": {},
    "colab_type": "code",
    "id": "OOreoe6F7eri"
   },
   "outputs": [
    {
     "data": {
      "text/html": [
       "<div>\n",
       "<style scoped>\n",
       "    .dataframe tbody tr th:only-of-type {\n",
       "        vertical-align: middle;\n",
       "    }\n",
       "\n",
       "    .dataframe tbody tr th {\n",
       "        vertical-align: top;\n",
       "    }\n",
       "\n",
       "    .dataframe thead th {\n",
       "        text-align: right;\n",
       "    }\n",
       "</style>\n",
       "<table border=\"1\" class=\"dataframe\">\n",
       "  <thead>\n",
       "    <tr style=\"text-align: right;\">\n",
       "      <th></th>\n",
       "      <th>Category</th>\n",
       "      <th>Message</th>\n",
       "    </tr>\n",
       "  </thead>\n",
       "  <tbody>\n",
       "    <tr>\n",
       "      <th>4010</th>\n",
       "      <td>spam</td>\n",
       "      <td>please call our customer service representativ...</td>\n",
       "    </tr>\n",
       "    <tr>\n",
       "      <th>4497</th>\n",
       "      <td>spam</td>\n",
       "      <td>latest nokia mobile or ipod mp3 player å£400 p...</td>\n",
       "    </tr>\n",
       "    <tr>\n",
       "      <th>3850</th>\n",
       "      <td>ham</td>\n",
       "      <td>we have all rounderso not required</td>\n",
       "    </tr>\n",
       "    <tr>\n",
       "      <th>4310</th>\n",
       "      <td>ham</td>\n",
       "      <td>it so happens that there r 2waxsto do wat you ...</td>\n",
       "    </tr>\n",
       "    <tr>\n",
       "      <th>200</th>\n",
       "      <td>ham</td>\n",
       "      <td>i sent you  ltgt  bucks</td>\n",
       "    </tr>\n",
       "    <tr>\n",
       "      <th>...</th>\n",
       "      <td>...</td>\n",
       "      <td>...</td>\n",
       "    </tr>\n",
       "    <tr>\n",
       "      <th>1871</th>\n",
       "      <td>ham</td>\n",
       "      <td>dont know supports ass and srt i thnk i think ...</td>\n",
       "    </tr>\n",
       "    <tr>\n",
       "      <th>2517</th>\n",
       "      <td>ham</td>\n",
       "      <td>sorry ill call later</td>\n",
       "    </tr>\n",
       "    <tr>\n",
       "      <th>1048</th>\n",
       "      <td>ham</td>\n",
       "      <td>i walked an hour 2 c u doesnåõt that show i ca...</td>\n",
       "    </tr>\n",
       "    <tr>\n",
       "      <th>4393</th>\n",
       "      <td>ham</td>\n",
       "      <td>baaaaaaaabe wake up  i miss you  i crave you i...</td>\n",
       "    </tr>\n",
       "    <tr>\n",
       "      <th>2027</th>\n",
       "      <td>ham</td>\n",
       "      <td>no got new job at bar in airport on satsgettin...</td>\n",
       "    </tr>\n",
       "  </tbody>\n",
       "</table>\n",
       "<p>1393 rows × 2 columns</p>\n",
       "</div>"
      ],
      "text/plain": [
       "     Category                                            Message\n",
       "4010     spam  please call our customer service representativ...\n",
       "4497     spam  latest nokia mobile or ipod mp3 player å£400 p...\n",
       "3850      ham                 we have all rounderso not required\n",
       "4310      ham  it so happens that there r 2waxsto do wat you ...\n",
       "200       ham                            i sent you  ltgt  bucks\n",
       "...       ...                                                ...\n",
       "1871      ham  dont know supports ass and srt i thnk i think ...\n",
       "2517      ham                               sorry ill call later\n",
       "1048      ham  i walked an hour 2 c u doesnåõt that show i ca...\n",
       "4393      ham  baaaaaaaabe wake up  i miss you  i crave you i...\n",
       "2027      ham  no got new job at bar in airport on satsgettin...\n",
       "\n",
       "[1393 rows x 2 columns]"
      ]
     },
     "execution_count": 300,
     "metadata": {},
     "output_type": "execute_result"
    }
   ],
   "source": [
    "test_data"
   ]
  },
  {
   "cell_type": "code",
   "execution_count": 302,
   "metadata": {},
   "outputs": [],
   "source": [
    "match_spam = 0\n",
    "match_ham=0\n",
    "thought_spam_is_ham=0\n",
    "thought_ham_is_spam=0\n"
   ]
  },
  {
   "cell_type": "code",
   "execution_count": 304,
   "metadata": {},
   "outputs": [
    {
     "data": {
      "text/plain": [
       "'please call our customer service representative on freephone 0808 145 4742 between 9am11pm as you have won a guaranteed å£1000 cash or å£5000 prize'"
      ]
     },
     "execution_count": 304,
     "metadata": {},
     "output_type": "execute_result"
    }
   ],
   "source": [
    "test_data.iloc[0]['Message']"
   ]
  },
  {
   "cell_type": "code",
   "execution_count": 311,
   "metadata": {},
   "outputs": [],
   "source": [
    "for i in range(len(test_data['Message'])):\n",
    "    prob_spam.clear()\n",
    "    prob_not_spam.clear()\n",
    "    category = test_data.iloc[i]['Category']\n",
    "    message = test_data.iloc[i]['Message']\n",
    "    msg_list = message.split(\" \")\n",
    "    for j in msg_list:\n",
    "        if j in word_prob['Word'].values:\n",
    "            word_indx = word_prob['Word'].isin([j]).values\n",
    "            word_info = word_prob[word_indx]\n",
    "            word_spam = word_info['P(E|S)']\n",
    "            word_not_spam = word_info['P(E|¬S)']\n",
    "            prob_spam.append(word_spam)\n",
    "            prob_not_spam.append(word_not_spam)\n",
    "        else:\n",
    "            continue\n",
    "# deal with underflow \n",
    "    for k in range(len(prob_spam)):\n",
    "        if k == 0:\n",
    "            log_prob_spam = np.log(prob_spam[k].values[0])\n",
    "        else:\n",
    "            log_num = np.log(prob_spam[k].values[0])\n",
    "            log_prob_spam += log_num\n",
    "\n",
    "    for h in range(len(prob_not_spam)):\n",
    "        if h==0:\n",
    "            log_not_spam = np.log(prob_not_spam[h].values[0])\n",
    "        else:\n",
    "            log_not_spam += np.log(prob_not_spam[h].values[0])\n",
    "# making classification \n",
    "    if log_prob_spam > log_not_spam:\n",
    "        recommend = 'spam'\n",
    "    else:\n",
    "        recommend = 'ham'\n",
    "# comparing result\n",
    "    if category == 'spam':\n",
    "        if category == recommend:\n",
    "            match_spam += 1\n",
    "        else:\n",
    "            thought_ham_is_spam += 1\n",
    "    if category == 'ham':\n",
    "        if category == recommend:\n",
    "            match_ham += 1\n",
    "        else:\n",
    "            thought_spam_is_ham += 1\n"
   ]
  },
  {
   "cell_type": "code",
   "execution_count": 315,
   "metadata": {},
   "outputs": [
    {
     "data": {
      "text/plain": [
       "1393"
      ]
     },
     "execution_count": 315,
     "metadata": {},
     "output_type": "execute_result"
    }
   ],
   "source": [
    "test_data['Message'].size"
   ]
  },
  {
   "cell_type": "code",
   "execution_count": 316,
   "metadata": {},
   "outputs": [
    {
     "data": {
      "text/plain": [
       "0.8923187365398421"
      ]
     },
     "execution_count": 316,
     "metadata": {},
     "output_type": "execute_result"
    }
   ],
   "source": [
    "accuracy = (match_ham + match_spam)/test_data['Message'].size\n",
    "accuracy"
   ]
  },
  {
   "cell_type": "code",
   "execution_count": 319,
   "metadata": {},
   "outputs": [
    {
     "name": "stdout",
     "output_type": "stream",
     "text": [
      "Match Spam 180\n",
      "Match Ham 1063\n",
      "Thought spam but is ham 146\n",
      "Thought ham but is spam 4\n",
      "Accuracy 0.8923187365398421\n"
     ]
    }
   ],
   "source": [
    "print(\"Match Spam \" + str(match_spam))\n",
    "print(\"Match Ham \" + str(match_ham))\n",
    "print(\"Thought spam but is ham \" + str(thought_spam_is_ham))\n",
    "print(\"Thought ham but is spam \" + str(thought_ham_is_spam))\n",
    "print(\"Accuracy \" + str(accuracy))"
   ]
  },
  {
   "cell_type": "markdown",
   "metadata": {
    "colab_type": "text",
    "id": "fwGqqNBzDh3y"
   },
   "source": [
    "<h3>11. Improvements</h3>\n",
    "<p>Give some suggestions or recommendations on how the accuracy of the model could be improved.</p>\n"
   ]
  },
  {
   "cell_type": "markdown",
   "metadata": {},
   "source": [
    "We can futher remove number in the message and remove non-sense word such ugh etc. By doing this the size of the set will be reducecd and the accuracy may be improved."
   ]
  },
  {
   "cell_type": "markdown",
   "metadata": {
    "colab_type": "text",
    "id": "KM5hnY3WDA2f"
   },
   "source": [
    "<h3></h3>"
   ]
  }
 ],
 "metadata": {
  "colab": {
   "collapsed_sections": [],
   "name": "lab05_spam_filter_student.ipynb",
   "provenance": []
  },
  "kernelspec": {
   "display_name": "Python 3",
   "language": "python",
   "name": "python3"
  },
  "language_info": {
   "codemirror_mode": {
    "name": "ipython",
    "version": 3
   },
   "file_extension": ".py",
   "mimetype": "text/x-python",
   "name": "python",
   "nbconvert_exporter": "python",
   "pygments_lexer": "ipython3",
   "version": "3.8.5"
  }
 },
 "nbformat": 4,
 "nbformat_minor": 1
}
